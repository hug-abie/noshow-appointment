{
 "cells": [
  {
   "cell_type": "markdown",
   "metadata": {},
   "source": [
    "\n",
    "# 影响医院就诊赴约率的因素分析\n",
    "\n",
    "## 目录\n",
    "<ul>\n",
    "<li><a href=\"#intro\">背景</a></li>\n",
    "<li><a href=\"#source\">数据来源和字段说明</a></li> \n",
    "<li><a href=\"#goal\">目的和分析思路</a></li>    \n",
    "<li><a href=\"#wrangling\">数据整理</a></li>\n",
    "<li><a href=\"#eda\">数据分析</a></li>\n",
    "<li><a href=\"#conclusions\">结论</a></li>\n",
    "</ul>\n",
    "\n"
   ]
  },
  {
   "cell_type": "markdown",
   "metadata": {},
   "source": [
    "<a id='intro'></a>\n",
    "## 背景\n",
    "\n",
    "巴西维多利亚市政府为该市的居民提供免费的医疗服务，而这项医疗服务的资源却存在着浪费的现象：有将近30%的患者预约了就诊，最后却没有按时赴约。本项目旨在通过探索影响就诊赴约率的因素，向维多利亚市政府提出改善就诊出勤状况的建议。\n",
    "\n",
    "<a id='source'></a>\n",
    "## 数据来源和字段说明\n",
    "根据kaggle网站上的信息，数据来源是巴西维多利亚市多个医疗机构的预约信息的合并。<br>\n",
    "各个字段的说明如下：\n",
    "\n",
    "|列标签|含义|\n",
    "|:---|:---|\n",
    "|No-show|是否缺席,Yes——缺席，No——出席|\n",
    "|PatientId|病人的ID|\t\n",
    "|AppointmentID|预约信息的ID|\t\n",
    "|Gender|性别|\n",
    "|AppointmentDay|实际应该就诊的日期|\n",
    "|ScheduledDay|预约发生的时间|\n",
    "|Age|年龄|\n",
    "|Neighbourhood|医院的位置|\n",
    "|Scholarship|是否享受政府给予的贫困补助金(0表示无，1表示有)|\n",
    "|Hipertension|是否患有高血压(0表示无，1表示有)|\n",
    "|Diabetes|是否患有糖尿病(0表示无，1表示有)|\n",
    "|Alcoholism|是否酗酒(0表示无，1表示有)|\n",
    "|Handcap|残疾级别(0表示无残疾，1-4表示患有残疾的种类数)|\n",
    "|SMS_received|是否收到通知短信(0表示没收到，1表示已收到)|\n"
   ]
  },
  {
   "cell_type": "markdown",
   "metadata": {},
   "source": [
    "<a id='goal'></a>\n",
    "## 目的和分析思路\n",
    "\n",
    "### 1. 项目目的\n",
    "找出影响就诊赴约率的主要因素，并据此提出改善出勤的建议\n",
    "\n",
    "### 2. 分析思路\n",
    "* 时间因素\n",
    "    - 赴约率随时间变化的总体趋势如何？\n",
    "    - 等待就诊的时间长度与赴约率的关系如何？\n",
    "    - 赴约率随预约时间变化的周期性如何？一星期中的不同天，一天中的不同小时是否会对应明显不同的赴约率？\n",
    "    - 赴约率随就诊时间变化的周期性如何？一星期中的不同天是否会对应明显不同的赴约率？\n",
    "* 居民因素\n",
    "    - 个人基本情况\n",
    "      * 赴约率与性别有关吗?\n",
    "      * 赴约率与年龄有关吗？\n",
    "      * 赴约率与居民的政府补助金领取状况有关吗？\n",
    "    - 个人健康情况\n",
    "      * 赴约率与是否患有高血压有关吗？\n",
    "      * 赴约率与是否患有糖尿病有关吗？\n",
    "      * 赴约率与是否酗酒有关吗？\n",
    "      * 赴约率与残疾情况有关吗？\n",
    "    - 人群分布\n",
    "      * 不同居民对预约总量的贡献度如何?\n",
    "      * 不同居民对缺席总量的贡献度如何？\n",
    "      * 是否存在多次预约从不出席的居民？\n",
    "      * 缺席的情况是更多地发生于第一次预约的居民还是更多地发生于已多次预约的老用户？\n",
    "    - 过往记录\n",
    "      * 过去的每一次出席和每一次缺席会如何影响赴约的概率？\n",
    "* 医院因素 \n",
    "     - 不同医院位置的赴约率差距大吗？如果大，是什么造成了这样的差距？\n",
    "     - 通知短信的提醒是否会改变居民的出席情况？\n",
    " "
   ]
  },
  {
   "cell_type": "code",
   "execution_count": 2,
   "metadata": {},
   "outputs": [],
   "source": [
    "import pandas as pd\n",
    "import numpy as np\n",
    "import matplotlib.pyplot as plt\n",
    "from scipy import stats\n",
    "import math\n",
    "import statsmodels.api as sm\n",
    "plt.rcParams['font.sans-serif']=['SimHei'] \n",
    "plt.rcParams['axes.unicode_minus']=False \n",
    "%matplotlib inline\n",
    "%config InlineBackend.figure_format = 'retina'"
   ]
  },
  {
   "cell_type": "markdown",
   "metadata": {},
   "source": [
    "<a id='wrangling'></a>\n",
    "## 数据整理\n",
    "\n",
    "\n",
    "### 常规属性"
   ]
  },
  {
   "cell_type": "code",
   "execution_count": 3,
   "metadata": {},
   "outputs": [
    {
     "data": {
      "text/html": [
       "<div>\n",
       "<style scoped>\n",
       "    .dataframe tbody tr th:only-of-type {\n",
       "        vertical-align: middle;\n",
       "    }\n",
       "\n",
       "    .dataframe tbody tr th {\n",
       "        vertical-align: top;\n",
       "    }\n",
       "\n",
       "    .dataframe thead th {\n",
       "        text-align: right;\n",
       "    }\n",
       "</style>\n",
       "<table border=\"1\" class=\"dataframe\">\n",
       "  <thead>\n",
       "    <tr style=\"text-align: right;\">\n",
       "      <th></th>\n",
       "      <th>PatientId</th>\n",
       "      <th>AppointmentID</th>\n",
       "      <th>Gender</th>\n",
       "      <th>ScheduledDay</th>\n",
       "      <th>AppointmentDay</th>\n",
       "      <th>Age</th>\n",
       "      <th>Neighbourhood</th>\n",
       "      <th>Scholarship</th>\n",
       "      <th>Hipertension</th>\n",
       "      <th>Diabetes</th>\n",
       "      <th>Alcoholism</th>\n",
       "      <th>Handcap</th>\n",
       "      <th>SMS_received</th>\n",
       "      <th>No-show</th>\n",
       "    </tr>\n",
       "  </thead>\n",
       "  <tbody>\n",
       "    <tr>\n",
       "      <th>0</th>\n",
       "      <td>2.987250e+13</td>\n",
       "      <td>5642903</td>\n",
       "      <td>F</td>\n",
       "      <td>2016-04-29T18:38:08Z</td>\n",
       "      <td>2016-04-29T00:00:00Z</td>\n",
       "      <td>62</td>\n",
       "      <td>JARDIM DA PENHA</td>\n",
       "      <td>0</td>\n",
       "      <td>1</td>\n",
       "      <td>0</td>\n",
       "      <td>0</td>\n",
       "      <td>0</td>\n",
       "      <td>0</td>\n",
       "      <td>No</td>\n",
       "    </tr>\n",
       "    <tr>\n",
       "      <th>1</th>\n",
       "      <td>5.589978e+14</td>\n",
       "      <td>5642503</td>\n",
       "      <td>M</td>\n",
       "      <td>2016-04-29T16:08:27Z</td>\n",
       "      <td>2016-04-29T00:00:00Z</td>\n",
       "      <td>56</td>\n",
       "      <td>JARDIM DA PENHA</td>\n",
       "      <td>0</td>\n",
       "      <td>0</td>\n",
       "      <td>0</td>\n",
       "      <td>0</td>\n",
       "      <td>0</td>\n",
       "      <td>0</td>\n",
       "      <td>No</td>\n",
       "    </tr>\n",
       "    <tr>\n",
       "      <th>2</th>\n",
       "      <td>4.262962e+12</td>\n",
       "      <td>5642549</td>\n",
       "      <td>F</td>\n",
       "      <td>2016-04-29T16:19:04Z</td>\n",
       "      <td>2016-04-29T00:00:00Z</td>\n",
       "      <td>62</td>\n",
       "      <td>MATA DA PRAIA</td>\n",
       "      <td>0</td>\n",
       "      <td>0</td>\n",
       "      <td>0</td>\n",
       "      <td>0</td>\n",
       "      <td>0</td>\n",
       "      <td>0</td>\n",
       "      <td>No</td>\n",
       "    </tr>\n",
       "    <tr>\n",
       "      <th>3</th>\n",
       "      <td>8.679512e+11</td>\n",
       "      <td>5642828</td>\n",
       "      <td>F</td>\n",
       "      <td>2016-04-29T17:29:31Z</td>\n",
       "      <td>2016-04-29T00:00:00Z</td>\n",
       "      <td>8</td>\n",
       "      <td>PONTAL DE CAMBURI</td>\n",
       "      <td>0</td>\n",
       "      <td>0</td>\n",
       "      <td>0</td>\n",
       "      <td>0</td>\n",
       "      <td>0</td>\n",
       "      <td>0</td>\n",
       "      <td>No</td>\n",
       "    </tr>\n",
       "    <tr>\n",
       "      <th>4</th>\n",
       "      <td>8.841186e+12</td>\n",
       "      <td>5642494</td>\n",
       "      <td>F</td>\n",
       "      <td>2016-04-29T16:07:23Z</td>\n",
       "      <td>2016-04-29T00:00:00Z</td>\n",
       "      <td>56</td>\n",
       "      <td>JARDIM DA PENHA</td>\n",
       "      <td>0</td>\n",
       "      <td>1</td>\n",
       "      <td>1</td>\n",
       "      <td>0</td>\n",
       "      <td>0</td>\n",
       "      <td>0</td>\n",
       "      <td>No</td>\n",
       "    </tr>\n",
       "  </tbody>\n",
       "</table>\n",
       "</div>"
      ],
      "text/plain": [
       "      PatientId  AppointmentID Gender          ScheduledDay  \\\n",
       "0  2.987250e+13        5642903      F  2016-04-29T18:38:08Z   \n",
       "1  5.589978e+14        5642503      M  2016-04-29T16:08:27Z   \n",
       "2  4.262962e+12        5642549      F  2016-04-29T16:19:04Z   \n",
       "3  8.679512e+11        5642828      F  2016-04-29T17:29:31Z   \n",
       "4  8.841186e+12        5642494      F  2016-04-29T16:07:23Z   \n",
       "\n",
       "         AppointmentDay  Age      Neighbourhood  Scholarship  Hipertension  \\\n",
       "0  2016-04-29T00:00:00Z   62    JARDIM DA PENHA            0             1   \n",
       "1  2016-04-29T00:00:00Z   56    JARDIM DA PENHA            0             0   \n",
       "2  2016-04-29T00:00:00Z   62      MATA DA PRAIA            0             0   \n",
       "3  2016-04-29T00:00:00Z    8  PONTAL DE CAMBURI            0             0   \n",
       "4  2016-04-29T00:00:00Z   56    JARDIM DA PENHA            0             1   \n",
       "\n",
       "   Diabetes  Alcoholism  Handcap  SMS_received No-show  \n",
       "0         0           0        0             0      No  \n",
       "1         0           0        0             0      No  \n",
       "2         0           0        0             0      No  \n",
       "3         0           0        0             0      No  \n",
       "4         1           0        0             0      No  "
      ]
     },
     "execution_count": 3,
     "metadata": {},
     "output_type": "execute_result"
    }
   ],
   "source": [
    "df=pd.read_csv('appointments.csv')\n",
    "df.head()"
   ]
  },
  {
   "cell_type": "markdown",
   "metadata": {},
   "source": [
    "**1.数据基本概况**"
   ]
  },
  {
   "cell_type": "code",
   "execution_count": 4,
   "metadata": {},
   "outputs": [
    {
     "name": "stdout",
     "output_type": "stream",
     "text": [
      "<class 'pandas.core.frame.DataFrame'>\n",
      "RangeIndex: 110527 entries, 0 to 110526\n",
      "Data columns (total 14 columns):\n",
      "PatientId         110527 non-null float64\n",
      "AppointmentID     110527 non-null int64\n",
      "Gender            110527 non-null object\n",
      "ScheduledDay      110527 non-null object\n",
      "AppointmentDay    110527 non-null object\n",
      "Age               110527 non-null int64\n",
      "Neighbourhood     110527 non-null object\n",
      "Scholarship       110527 non-null int64\n",
      "Hipertension      110527 non-null int64\n",
      "Diabetes          110527 non-null int64\n",
      "Alcoholism        110527 non-null int64\n",
      "Handcap           110527 non-null int64\n",
      "SMS_received      110527 non-null int64\n",
      "No-show           110527 non-null object\n",
      "dtypes: float64(1), int64(8), object(5)\n",
      "memory usage: 11.8+ MB\n"
     ]
    }
   ],
   "source": [
    "df.info()"
   ]
  },
  {
   "cell_type": "markdown",
   "metadata": {},
   "source": [
    "数据集共有110527条记录，所有字段均没有缺失值。ScheduledDay和AppointmentDay这两个字段是object类型，不是预期的时间类型，需要转换。No-show字段是object类型，我希望该变量变为int类型，取值0或1，0为缺席，1为出席,并将变量名改为show。"
   ]
  },
  {
   "cell_type": "markdown",
   "metadata": {},
   "source": [
    "**2.各变量取值概况**"
   ]
  },
  {
   "cell_type": "markdown",
   "metadata": {},
   "source": [
    "**1) Gender变量**"
   ]
  },
  {
   "cell_type": "code",
   "execution_count": 5,
   "metadata": {},
   "outputs": [
    {
     "data": {
      "text/plain": [
       "F    0.649977\n",
       "M    0.350023\n",
       "Name: Gender, dtype: float64"
      ]
     },
     "execution_count": 5,
     "metadata": {},
     "output_type": "execute_result"
    }
   ],
   "source": [
    "df['Gender'].value_counts()/df['Gender'].count()"
   ]
  },
  {
   "cell_type": "markdown",
   "metadata": {},
   "source": [
    "这说明Gender变量的取值只包括'M'和'F'，没有错误的取值。同时可以看出，预约就诊的女性居多，占到了65%左右"
   ]
  },
  {
   "cell_type": "markdown",
   "metadata": {},
   "source": [
    "**2) ScheduledDay变量**"
   ]
  },
  {
   "cell_type": "code",
   "execution_count": 6,
   "metadata": {},
   "outputs": [
    {
     "data": {
      "text/plain": [
       "False"
      ]
     },
     "execution_count": 6,
     "metadata": {},
     "output_type": "execute_result"
    }
   ],
   "source": [
    "pd.to_datetime(df['ScheduledDay'], errors='coerce').isnull().any()"
   ]
  },
  {
   "cell_type": "markdown",
   "metadata": {},
   "source": [
    "这说明ScheduledDay变量的所有取值都可以正常转化为时间类型，接下来看看预约时间的大致范围。"
   ]
  },
  {
   "cell_type": "code",
   "execution_count": 7,
   "metadata": {},
   "outputs": [
    {
     "data": {
      "text/plain": [
       "count                        110527\n",
       "unique                       103549\n",
       "top       2016-05-06 07:09:54+00:00\n",
       "freq                             24\n",
       "first     2015-11-10 07:13:56+00:00\n",
       "last      2016-06-08 20:07:23+00:00\n",
       "Name: ScheduledDay, dtype: object"
      ]
     },
     "execution_count": 7,
     "metadata": {},
     "output_type": "execute_result"
    }
   ],
   "source": [
    "#首先转化为datetime类型\n",
    "df['ScheduledDay']=pd.to_datetime(df['ScheduledDay'])\n",
    "#再查看取值情况\n",
    "df['ScheduledDay'].describe()"
   ]
  },
  {
   "cell_type": "markdown",
   "metadata": {},
   "source": [
    "数据集中所包含的预约时间从2015年11月10日开始，到2016年6月8日结束。时间精确到了秒。其中某些时间点上出现了多个预约同时发生的情况"
   ]
  },
  {
   "cell_type": "markdown",
   "metadata": {},
   "source": [
    "**3) AppointmentDay变量**"
   ]
  },
  {
   "cell_type": "code",
   "execution_count": 8,
   "metadata": {},
   "outputs": [
    {
     "data": {
      "text/plain": [
       "False"
      ]
     },
     "execution_count": 8,
     "metadata": {},
     "output_type": "execute_result"
    }
   ],
   "source": [
    "pd.to_datetime(df['AppointmentDay'], errors='coerce').isnull().any()"
   ]
  },
  {
   "cell_type": "markdown",
   "metadata": {},
   "source": [
    "这说明AppointmentDay变量的所有取值都可以正常转化为时间类型，接下来看看实际就诊时间的大致范围。"
   ]
  },
  {
   "cell_type": "code",
   "execution_count": 9,
   "metadata": {},
   "outputs": [
    {
     "data": {
      "text/plain": [
       "count                        110527\n",
       "unique                           27\n",
       "top       2016-06-06 00:00:00+00:00\n",
       "freq                           4692\n",
       "first     2016-04-29 00:00:00+00:00\n",
       "last      2016-06-08 00:00:00+00:00\n",
       "Name: AppointmentDay, dtype: object"
      ]
     },
     "execution_count": 9,
     "metadata": {},
     "output_type": "execute_result"
    }
   ],
   "source": [
    "#首先转化为datetime类型\n",
    "df['AppointmentDay']=pd.to_datetime(df['AppointmentDay'])\n",
    "#再查看取值情况\n",
    "df['AppointmentDay'].describe()"
   ]
  },
  {
   "cell_type": "markdown",
   "metadata": {},
   "source": [
    "预定就诊时间从2016年4月29日开始，到2016年6月8日结束。时间只精确到了天。"
   ]
  },
  {
   "cell_type": "markdown",
   "metadata": {},
   "source": [
    "对比预约时间和就诊时间，发现结尾的时间点是相同的，都是2016年6月8日；而开头的时间点却相差很大，最早的就诊时间比最早的预约时间晚了将近6个月。我猜想，一种可能的解释是：2016年上半年的就诊集中在4月29日之后进行，居民无法预约到4月29日之间的就诊。\n",
    "\n",
    "接下来，检验就诊时间与预约时间的先后顺序是否符合逻辑，即是否AppointmentDay的值都大于ScheduledDay的值。"
   ]
  },
  {
   "cell_type": "code",
   "execution_count": 10,
   "metadata": {},
   "outputs": [
    {
     "data": {
      "text/html": [
       "<div>\n",
       "<style scoped>\n",
       "    .dataframe tbody tr th:only-of-type {\n",
       "        vertical-align: middle;\n",
       "    }\n",
       "\n",
       "    .dataframe tbody tr th {\n",
       "        vertical-align: top;\n",
       "    }\n",
       "\n",
       "    .dataframe thead th {\n",
       "        text-align: right;\n",
       "    }\n",
       "</style>\n",
       "<table border=\"1\" class=\"dataframe\">\n",
       "  <thead>\n",
       "    <tr style=\"text-align: right;\">\n",
       "      <th></th>\n",
       "      <th>PatientId</th>\n",
       "      <th>AppointmentID</th>\n",
       "      <th>Gender</th>\n",
       "      <th>ScheduledDay</th>\n",
       "      <th>AppointmentDay</th>\n",
       "      <th>Age</th>\n",
       "      <th>Neighbourhood</th>\n",
       "      <th>Scholarship</th>\n",
       "      <th>Hipertension</th>\n",
       "      <th>Diabetes</th>\n",
       "      <th>Alcoholism</th>\n",
       "      <th>Handcap</th>\n",
       "      <th>SMS_received</th>\n",
       "      <th>No-show</th>\n",
       "    </tr>\n",
       "  </thead>\n",
       "  <tbody>\n",
       "    <tr>\n",
       "      <th>27033</th>\n",
       "      <td>7.839273e+12</td>\n",
       "      <td>5679978</td>\n",
       "      <td>M</td>\n",
       "      <td>2016-05-10 10:51:53+00:00</td>\n",
       "      <td>2016-05-09 00:00:00+00:00</td>\n",
       "      <td>38</td>\n",
       "      <td>RESISTÊNCIA</td>\n",
       "      <td>0</td>\n",
       "      <td>0</td>\n",
       "      <td>0</td>\n",
       "      <td>0</td>\n",
       "      <td>1</td>\n",
       "      <td>0</td>\n",
       "      <td>Yes</td>\n",
       "    </tr>\n",
       "    <tr>\n",
       "      <th>55226</th>\n",
       "      <td>7.896294e+12</td>\n",
       "      <td>5715660</td>\n",
       "      <td>F</td>\n",
       "      <td>2016-05-18 14:50:41+00:00</td>\n",
       "      <td>2016-05-17 00:00:00+00:00</td>\n",
       "      <td>19</td>\n",
       "      <td>SANTO ANTÔNIO</td>\n",
       "      <td>0</td>\n",
       "      <td>0</td>\n",
       "      <td>0</td>\n",
       "      <td>0</td>\n",
       "      <td>1</td>\n",
       "      <td>0</td>\n",
       "      <td>Yes</td>\n",
       "    </tr>\n",
       "    <tr>\n",
       "      <th>64175</th>\n",
       "      <td>2.425226e+13</td>\n",
       "      <td>5664962</td>\n",
       "      <td>F</td>\n",
       "      <td>2016-05-05 13:43:58+00:00</td>\n",
       "      <td>2016-05-04 00:00:00+00:00</td>\n",
       "      <td>22</td>\n",
       "      <td>CONSOLAÇÃO</td>\n",
       "      <td>0</td>\n",
       "      <td>0</td>\n",
       "      <td>0</td>\n",
       "      <td>0</td>\n",
       "      <td>0</td>\n",
       "      <td>0</td>\n",
       "      <td>Yes</td>\n",
       "    </tr>\n",
       "    <tr>\n",
       "      <th>71533</th>\n",
       "      <td>9.982316e+14</td>\n",
       "      <td>5686628</td>\n",
       "      <td>F</td>\n",
       "      <td>2016-05-11 13:49:20+00:00</td>\n",
       "      <td>2016-05-05 00:00:00+00:00</td>\n",
       "      <td>81</td>\n",
       "      <td>SANTO ANTÔNIO</td>\n",
       "      <td>0</td>\n",
       "      <td>0</td>\n",
       "      <td>0</td>\n",
       "      <td>0</td>\n",
       "      <td>0</td>\n",
       "      <td>0</td>\n",
       "      <td>Yes</td>\n",
       "    </tr>\n",
       "    <tr>\n",
       "      <th>72362</th>\n",
       "      <td>3.787482e+12</td>\n",
       "      <td>5655637</td>\n",
       "      <td>M</td>\n",
       "      <td>2016-05-04 06:50:57+00:00</td>\n",
       "      <td>2016-05-03 00:00:00+00:00</td>\n",
       "      <td>7</td>\n",
       "      <td>TABUAZEIRO</td>\n",
       "      <td>0</td>\n",
       "      <td>0</td>\n",
       "      <td>0</td>\n",
       "      <td>0</td>\n",
       "      <td>0</td>\n",
       "      <td>0</td>\n",
       "      <td>Yes</td>\n",
       "    </tr>\n",
       "  </tbody>\n",
       "</table>\n",
       "</div>"
      ],
      "text/plain": [
       "          PatientId  AppointmentID Gender              ScheduledDay  \\\n",
       "27033  7.839273e+12        5679978      M 2016-05-10 10:51:53+00:00   \n",
       "55226  7.896294e+12        5715660      F 2016-05-18 14:50:41+00:00   \n",
       "64175  2.425226e+13        5664962      F 2016-05-05 13:43:58+00:00   \n",
       "71533  9.982316e+14        5686628      F 2016-05-11 13:49:20+00:00   \n",
       "72362  3.787482e+12        5655637      M 2016-05-04 06:50:57+00:00   \n",
       "\n",
       "                 AppointmentDay  Age  Neighbourhood  Scholarship  \\\n",
       "27033 2016-05-09 00:00:00+00:00   38    RESISTÊNCIA            0   \n",
       "55226 2016-05-17 00:00:00+00:00   19  SANTO ANTÔNIO            0   \n",
       "64175 2016-05-04 00:00:00+00:00   22     CONSOLAÇÃO            0   \n",
       "71533 2016-05-05 00:00:00+00:00   81  SANTO ANTÔNIO            0   \n",
       "72362 2016-05-03 00:00:00+00:00    7     TABUAZEIRO            0   \n",
       "\n",
       "       Hipertension  Diabetes  Alcoholism  Handcap  SMS_received No-show  \n",
       "27033             0         0           0        1             0     Yes  \n",
       "55226             0         0           0        1             0     Yes  \n",
       "64175             0         0           0        0             0     Yes  \n",
       "71533             0         0           0        0             0     Yes  \n",
       "72362             0         0           0        0             0     Yes  "
      ]
     },
     "execution_count": 10,
     "metadata": {},
     "output_type": "execute_result"
    }
   ],
   "source": [
    "baddf=df[df['AppointmentDay'].dt.date<df['ScheduledDay'].dt.date]\n",
    "baddf"
   ]
  },
  {
   "cell_type": "markdown",
   "metadata": {},
   "source": [
    "这说明有5条记录是异常的，它们的就诊时间在预约时间之前，有可能是在登记时出现了错误，后面的数据清洗中需要将这5条记录删除。"
   ]
  },
  {
   "cell_type": "markdown",
   "metadata": {},
   "source": [
    "**4) Age变量**"
   ]
  },
  {
   "cell_type": "code",
   "execution_count": 11,
   "metadata": {},
   "outputs": [
    {
     "data": {
      "text/plain": [
       "count    110527.000000\n",
       "mean         37.088874\n",
       "std          23.110205\n",
       "min          -1.000000\n",
       "25%          18.000000\n",
       "50%          37.000000\n",
       "75%          55.000000\n",
       "max         115.000000\n",
       "Name: Age, dtype: float64"
      ]
     },
     "execution_count": 11,
     "metadata": {},
     "output_type": "execute_result"
    }
   ],
   "source": [
    "df['Age'].describe()"
   ]
  },
  {
   "cell_type": "markdown",
   "metadata": {},
   "source": [
    "Age字段中出现了-1，这是不正常的。年龄不可能有-1岁。将年龄为-1岁的记录取出看看具体是怎么回事。"
   ]
  },
  {
   "cell_type": "code",
   "execution_count": 12,
   "metadata": {},
   "outputs": [
    {
     "data": {
      "text/html": [
       "<div>\n",
       "<style scoped>\n",
       "    .dataframe tbody tr th:only-of-type {\n",
       "        vertical-align: middle;\n",
       "    }\n",
       "\n",
       "    .dataframe tbody tr th {\n",
       "        vertical-align: top;\n",
       "    }\n",
       "\n",
       "    .dataframe thead th {\n",
       "        text-align: right;\n",
       "    }\n",
       "</style>\n",
       "<table border=\"1\" class=\"dataframe\">\n",
       "  <thead>\n",
       "    <tr style=\"text-align: right;\">\n",
       "      <th></th>\n",
       "      <th>PatientId</th>\n",
       "      <th>AppointmentID</th>\n",
       "      <th>Gender</th>\n",
       "      <th>ScheduledDay</th>\n",
       "      <th>AppointmentDay</th>\n",
       "      <th>Age</th>\n",
       "      <th>Neighbourhood</th>\n",
       "      <th>Scholarship</th>\n",
       "      <th>Hipertension</th>\n",
       "      <th>Diabetes</th>\n",
       "      <th>Alcoholism</th>\n",
       "      <th>Handcap</th>\n",
       "      <th>SMS_received</th>\n",
       "      <th>No-show</th>\n",
       "    </tr>\n",
       "  </thead>\n",
       "  <tbody>\n",
       "    <tr>\n",
       "      <th>99832</th>\n",
       "      <td>4.659432e+14</td>\n",
       "      <td>5775010</td>\n",
       "      <td>F</td>\n",
       "      <td>2016-06-06 08:58:13+00:00</td>\n",
       "      <td>2016-06-06 00:00:00+00:00</td>\n",
       "      <td>-1</td>\n",
       "      <td>ROMÃO</td>\n",
       "      <td>0</td>\n",
       "      <td>0</td>\n",
       "      <td>0</td>\n",
       "      <td>0</td>\n",
       "      <td>0</td>\n",
       "      <td>0</td>\n",
       "      <td>No</td>\n",
       "    </tr>\n",
       "  </tbody>\n",
       "</table>\n",
       "</div>"
      ],
      "text/plain": [
       "          PatientId  AppointmentID Gender              ScheduledDay  \\\n",
       "99832  4.659432e+14        5775010      F 2016-06-06 08:58:13+00:00   \n",
       "\n",
       "                 AppointmentDay  Age Neighbourhood  Scholarship  Hipertension  \\\n",
       "99832 2016-06-06 00:00:00+00:00   -1         ROMÃO            0             0   \n",
       "\n",
       "       Diabetes  Alcoholism  Handcap  SMS_received No-show  \n",
       "99832         0           0        0             0      No  "
      ]
     },
     "execution_count": 12,
     "metadata": {},
     "output_type": "execute_result"
    }
   ],
   "source": [
    "df[df['Age']<0]"
   ]
  },
  {
   "cell_type": "markdown",
   "metadata": {},
   "source": [
    "只有1条年龄为-1的记录，可能是预约时登记错误。后面的数据清洗过程中将其删除"
   ]
  },
  {
   "cell_type": "markdown",
   "metadata": {},
   "source": [
    "看看预约就诊的居民的年龄分布情况"
   ]
  },
  {
   "cell_type": "code",
   "execution_count": 13,
   "metadata": {},
   "outputs": [
    {
     "data": {
      "image/png": "[encoded data removed]",
      "text/plain": [
       "<Figure size 576x360 with 1 Axes>"
      ]
     },
     "metadata": {
      "image/png": {
       "height": 317,
       "width": 512
      },
      "needs_background": "light"
     },
     "output_type": "display_data"
    }
   ],
   "source": [
    "plt.figure(figsize=(8,5))\n",
    "plt.hist(df['Age'],color='#50A5A6')\n",
    "plt.xticks(fontsize=10)\n",
    "plt.yticks(fontsize=10)\n",
    "plt.xlabel(u'年龄',fontsize=12)\n",
    "plt.ylabel(u'数量',fontsize=12);"
   ]
  },
  {
   "cell_type": "markdown",
   "metadata": {},
   "source": [
    "年龄的分布有两个峰，分别对应10岁以下和50岁左右的居民。而高龄老人预约就诊的情况较少。"
   ]
  },
  {
   "cell_type": "markdown",
   "metadata": {},
   "source": [
    "**5) Neighborhood变量**"
   ]
  },
  {
   "cell_type": "code",
   "execution_count": 14,
   "metadata": {},
   "outputs": [
    {
     "data": {
      "text/plain": [
       "JARDIM CAMBURI                 7717\n",
       "MARIA ORTIZ                    5805\n",
       "RESISTÊNCIA                    4431\n",
       "JARDIM DA PENHA                3877\n",
       "ITARARÉ                        3514\n",
       "CENTRO                         3334\n",
       "TABUAZEIRO                     3132\n",
       "SANTA MARTHA                   3131\n",
       "JESUS DE NAZARETH              2853\n",
       "BONFIM                         2773\n",
       "SANTO ANTÔNIO                  2746\n",
       "SANTO ANDRÉ                    2571\n",
       "CARATOÍRA                      2565\n",
       "JABOUR                         2509\n",
       "SÃO PEDRO                      2448\n",
       "ILHA DO PRÍNCIPE               2266\n",
       "NOVA PALESTINA                 2264\n",
       "ANDORINHAS                     2262\n",
       "DA PENHA                       2217\n",
       "ROMÃO                          2215\n",
       "GURIGICA                       2018\n",
       "SÃO JOSÉ                       1977\n",
       "BELA VISTA                     1907\n",
       "MARUÍPE                        1902\n",
       "FORTE SÃO JOÃO                 1889\n",
       "ILHA DE SANTA MARIA            1885\n",
       "SÃO CRISTÓVÃO                  1836\n",
       "REDENÇÃO                       1553\n",
       "SÃO BENEDITO                   1439\n",
       "JOANA D´ARC                    1427\n",
       "                               ... \n",
       "SANTOS REIS                     547\n",
       "ESTRELINHA                      538\n",
       "SANTA CLARA                     506\n",
       "SOLON BORGES                    469\n",
       "PIEDADE                         452\n",
       "SANTA CECÍLIA                   448\n",
       "SANTA LÚCIA                     438\n",
       "SANTA LUÍZA                     428\n",
       "BARRO VERMELHO                  423\n",
       "DO MOSCOSO                      413\n",
       "MÁRIO CYPRESTE                  371\n",
       "BOA VISTA                       312\n",
       "COMDUSA                         310\n",
       "DE LOURDES                      305\n",
       "ARIOVALDO FAVALESSA             282\n",
       "ANTÔNIO HONÓRIO                 271\n",
       "FRADINHOS                       258\n",
       "ENSEADA DO SUÁ                  235\n",
       "SANTA HELENA                    178\n",
       "HORTO                           175\n",
       "UNIVERSITÁRIO                   152\n",
       "SEGURANÇA DO LAR                145\n",
       "NAZARETH                        135\n",
       "MORADA DE CAMBURI                96\n",
       "PONTAL DE CAMBURI                69\n",
       "ILHA DO BOI                      35\n",
       "ILHA DO FRADE                    10\n",
       "AEROPORTO                         8\n",
       "ILHAS OCEÂNICAS DE TRINDADE       2\n",
       "PARQUE INDUSTRIAL                 1\n",
       "Name: Neighbourhood, Length: 81, dtype: int64"
      ]
     },
     "execution_count": 14,
     "metadata": {},
     "output_type": "execute_result"
    }
   ],
   "source": [
    "df['Neighbourhood'].value_counts()"
   ]
  },
  {
   "cell_type": "markdown",
   "metadata": {},
   "source": [
    "这是医院位置信息，一共有81家医院。可以发现，不同医院的预约就诊数量差异巨大，预约量最多的医院达到了7000多次，最少的医院才1次。"
   ]
  },
  {
   "cell_type": "markdown",
   "metadata": {},
   "source": [
    "**6) Scholarship变量**"
   ]
  },
  {
   "cell_type": "code",
   "execution_count": 15,
   "metadata": {},
   "outputs": [
    {
     "data": {
      "text/plain": [
       "0    0.901734\n",
       "1    0.098266\n",
       "Name: Scholarship, dtype: float64"
      ]
     },
     "execution_count": 15,
     "metadata": {},
     "output_type": "execute_result"
    }
   ],
   "source": [
    "df['Scholarship'].value_counts()/df['Scholarship'].count()"
   ]
  },
  {
   "cell_type": "markdown",
   "metadata": {},
   "source": [
    "Scholarship字段取值只包括0和1，不包含其它取值，说明没有错误的取值。同时可以看出，领取了政府补助金的居民数量只占到了不到10%。"
   ]
  },
  {
   "cell_type": "markdown",
   "metadata": {},
   "source": [
    "**7) Hipertension变量**"
   ]
  },
  {
   "cell_type": "code",
   "execution_count": 16,
   "metadata": {},
   "outputs": [
    {
     "data": {
      "text/plain": [
       "0    0.802754\n",
       "1    0.197246\n",
       "Name: Hipertension, dtype: float64"
      ]
     },
     "execution_count": 16,
     "metadata": {},
     "output_type": "execute_result"
    }
   ],
   "source": [
    "df['Hipertension'].value_counts()/df['Hipertension'].count()"
   ]
  },
  {
   "cell_type": "markdown",
   "metadata": {},
   "source": [
    "Hipertension字段取值只包括0和1，不包含其它取值，说明没有错误的取值。同时可以看出，患有高血压的居民数量占到了将近20%。"
   ]
  },
  {
   "cell_type": "markdown",
   "metadata": {},
   "source": [
    "**8) Diabetes变量**"
   ]
  },
  {
   "cell_type": "code",
   "execution_count": 17,
   "metadata": {},
   "outputs": [
    {
     "data": {
      "text/plain": [
       "0    0.928135\n",
       "1    0.071865\n",
       "Name: Diabetes, dtype: float64"
      ]
     },
     "execution_count": 17,
     "metadata": {},
     "output_type": "execute_result"
    }
   ],
   "source": [
    "df['Diabetes'].value_counts()/df['Diabetes'].count()"
   ]
  },
  {
   "cell_type": "markdown",
   "metadata": {},
   "source": [
    "Diabetes字段取值只包括0和1，不包含其它取值，说明没有错误的取值。同时可以看出，患有糖尿病的居民数量占据7.2%左右。"
   ]
  },
  {
   "cell_type": "markdown",
   "metadata": {},
   "source": [
    "**9) Alcoholism变量**"
   ]
  },
  {
   "cell_type": "code",
   "execution_count": 18,
   "metadata": {},
   "outputs": [
    {
     "data": {
      "text/plain": [
       "0    0.9696\n",
       "1    0.0304\n",
       "Name: Alcoholism, dtype: float64"
      ]
     },
     "execution_count": 18,
     "metadata": {},
     "output_type": "execute_result"
    }
   ],
   "source": [
    "df['Alcoholism'].value_counts()/df['Alcoholism'].count()"
   ]
  },
  {
   "cell_type": "markdown",
   "metadata": {},
   "source": [
    "Alcoholism字段取值只包括0和1，不包含其它取值，说明没有错误的取值。同时可以看出，酗酒的居民数量占据3%左右，这说明当地酗酒的人不是很多。"
   ]
  },
  {
   "cell_type": "markdown",
   "metadata": {},
   "source": [
    "**10) Handcap变量**"
   ]
  },
  {
   "cell_type": "code",
   "execution_count": 19,
   "metadata": {},
   "outputs": [
    {
     "data": {
      "text/plain": [
       "0    0.979724\n",
       "1    0.018475\n",
       "2    0.001656\n",
       "3    0.000118\n",
       "4    0.000027\n",
       "Name: Handcap, dtype: float64"
      ]
     },
     "execution_count": 19,
     "metadata": {},
     "output_type": "execute_result"
    }
   ],
   "source": [
    "df['Handcap'].value_counts()/df['Handcap'].count()"
   ]
  },
  {
   "cell_type": "markdown",
   "metadata": {},
   "source": [
    "Handcap字段取值取值只包括0、1、2、3、4，不包含其它取值，说明没有错误的取值。同时可以看出，没有残疾的人占据了将近98%，有残疾的人大多也只有1处残疾，2处以上残疾的居民数量不到0.2%。"
   ]
  },
  {
   "cell_type": "markdown",
   "metadata": {},
   "source": [
    "**11) SMS_received变量**"
   ]
  },
  {
   "cell_type": "code",
   "execution_count": 20,
   "metadata": {},
   "outputs": [
    {
     "data": {
      "text/plain": [
       "0    0.678974\n",
       "1    0.321026\n",
       "Name: SMS_received, dtype: float64"
      ]
     },
     "execution_count": 20,
     "metadata": {},
     "output_type": "execute_result"
    }
   ],
   "source": [
    "df['SMS_received'].value_counts()/df['SMS_received'].count()"
   ]
  },
  {
   "cell_type": "markdown",
   "metadata": {},
   "source": [
    "SMS_received字段取值取值只包括0和1，不包含其它取值，说明没有错误的取值。同时可以看出，超过三分之二的就诊是没有收到通知短信提醒的。通过查阅维基百科资料https://en.wikipedia.org/wiki/Vit%C3%B3ria,_Esp%C3%ADrito_Santo#Economy 发现，维多利亚市是生活质量较高的省会城市，因此不可能出现三分之二的居民没有手机的情况。因此，没有收到通知短信，很有可能是医院或相关机构没有发出通知导致的。"
   ]
  },
  {
   "cell_type": "markdown",
   "metadata": {},
   "source": [
    "**12) No-show变量**"
   ]
  },
  {
   "cell_type": "code",
   "execution_count": 21,
   "metadata": {},
   "outputs": [
    {
     "data": {
      "text/plain": [
       "No     0.798067\n",
       "Yes    0.201933\n",
       "Name: No-show, dtype: float64"
      ]
     },
     "execution_count": 21,
     "metadata": {},
     "output_type": "execute_result"
    }
   ],
   "source": [
    "df['No-show'].value_counts()/df['No-show'].count()"
   ]
  },
  {
   "cell_type": "markdown",
   "metadata": {},
   "source": [
    "No_Show字段取值只包括Yes和NO，不包含其它取值，说明没有错误的取值。同时可以看出，缺席率略微超出20%。"
   ]
  },
  {
   "cell_type": "markdown",
   "metadata": {},
   "source": [
    "#### 3. 数据冗余情况"
   ]
  },
  {
   "cell_type": "code",
   "execution_count": 22,
   "metadata": {},
   "outputs": [
    {
     "data": {
      "text/plain": [
       "0"
      ]
     },
     "execution_count": 22,
     "metadata": {},
     "output_type": "execute_result"
    }
   ],
   "source": [
    "df.duplicated(subset='AppointmentID').sum()"
   ]
  },
  {
   "cell_type": "markdown",
   "metadata": {},
   "source": [
    "这说明没有数据冗余"
   ]
  },
  {
   "cell_type": "markdown",
   "metadata": {},
   "source": [
    "#### 4. 数据之间的相关性"
   ]
  },
  {
   "cell_type": "code",
   "execution_count": 23,
   "metadata": {},
   "outputs": [
    {
     "data": {
      "text/html": [
       "<div>\n",
       "<style scoped>\n",
       "    .dataframe tbody tr th:only-of-type {\n",
       "        vertical-align: middle;\n",
       "    }\n",
       "\n",
       "    .dataframe tbody tr th {\n",
       "        vertical-align: top;\n",
       "    }\n",
       "\n",
       "    .dataframe thead th {\n",
       "        text-align: right;\n",
       "    }\n",
       "</style>\n",
       "<table border=\"1\" class=\"dataframe\">\n",
       "  <thead>\n",
       "    <tr style=\"text-align: right;\">\n",
       "      <th></th>\n",
       "      <th>PatientId</th>\n",
       "      <th>AppointmentID</th>\n",
       "      <th>Age</th>\n",
       "      <th>Scholarship</th>\n",
       "      <th>Hipertension</th>\n",
       "      <th>Diabetes</th>\n",
       "      <th>Alcoholism</th>\n",
       "      <th>Handcap</th>\n",
       "      <th>SMS_received</th>\n",
       "    </tr>\n",
       "  </thead>\n",
       "  <tbody>\n",
       "    <tr>\n",
       "      <th>PatientId</th>\n",
       "      <td>1.000000</td>\n",
       "      <td>0.004039</td>\n",
       "      <td>-0.004139</td>\n",
       "      <td>-0.002880</td>\n",
       "      <td>-0.006441</td>\n",
       "      <td>0.001605</td>\n",
       "      <td>0.011011</td>\n",
       "      <td>-0.007916</td>\n",
       "      <td>-0.009749</td>\n",
       "    </tr>\n",
       "    <tr>\n",
       "      <th>AppointmentID</th>\n",
       "      <td>0.004039</td>\n",
       "      <td>1.000000</td>\n",
       "      <td>-0.019126</td>\n",
       "      <td>0.022615</td>\n",
       "      <td>0.012752</td>\n",
       "      <td>0.022628</td>\n",
       "      <td>0.032944</td>\n",
       "      <td>0.014106</td>\n",
       "      <td>-0.256618</td>\n",
       "    </tr>\n",
       "    <tr>\n",
       "      <th>Age</th>\n",
       "      <td>-0.004139</td>\n",
       "      <td>-0.019126</td>\n",
       "      <td>1.000000</td>\n",
       "      <td>-0.092457</td>\n",
       "      <td>0.504586</td>\n",
       "      <td>0.292391</td>\n",
       "      <td>0.095811</td>\n",
       "      <td>0.078033</td>\n",
       "      <td>0.012643</td>\n",
       "    </tr>\n",
       "    <tr>\n",
       "      <th>Scholarship</th>\n",
       "      <td>-0.002880</td>\n",
       "      <td>0.022615</td>\n",
       "      <td>-0.092457</td>\n",
       "      <td>1.000000</td>\n",
       "      <td>-0.019729</td>\n",
       "      <td>-0.024894</td>\n",
       "      <td>0.035022</td>\n",
       "      <td>-0.008586</td>\n",
       "      <td>0.001194</td>\n",
       "    </tr>\n",
       "    <tr>\n",
       "      <th>Hipertension</th>\n",
       "      <td>-0.006441</td>\n",
       "      <td>0.012752</td>\n",
       "      <td>0.504586</td>\n",
       "      <td>-0.019729</td>\n",
       "      <td>1.000000</td>\n",
       "      <td>0.433086</td>\n",
       "      <td>0.087971</td>\n",
       "      <td>0.080083</td>\n",
       "      <td>-0.006267</td>\n",
       "    </tr>\n",
       "    <tr>\n",
       "      <th>Diabetes</th>\n",
       "      <td>0.001605</td>\n",
       "      <td>0.022628</td>\n",
       "      <td>0.292391</td>\n",
       "      <td>-0.024894</td>\n",
       "      <td>0.433086</td>\n",
       "      <td>1.000000</td>\n",
       "      <td>0.018474</td>\n",
       "      <td>0.057530</td>\n",
       "      <td>-0.014550</td>\n",
       "    </tr>\n",
       "    <tr>\n",
       "      <th>Alcoholism</th>\n",
       "      <td>0.011011</td>\n",
       "      <td>0.032944</td>\n",
       "      <td>0.095811</td>\n",
       "      <td>0.035022</td>\n",
       "      <td>0.087971</td>\n",
       "      <td>0.018474</td>\n",
       "      <td>1.000000</td>\n",
       "      <td>0.004648</td>\n",
       "      <td>-0.026147</td>\n",
       "    </tr>\n",
       "    <tr>\n",
       "      <th>Handcap</th>\n",
       "      <td>-0.007916</td>\n",
       "      <td>0.014106</td>\n",
       "      <td>0.078033</td>\n",
       "      <td>-0.008586</td>\n",
       "      <td>0.080083</td>\n",
       "      <td>0.057530</td>\n",
       "      <td>0.004648</td>\n",
       "      <td>1.000000</td>\n",
       "      <td>-0.024161</td>\n",
       "    </tr>\n",
       "    <tr>\n",
       "      <th>SMS_received</th>\n",
       "      <td>-0.009749</td>\n",
       "      <td>-0.256618</td>\n",
       "      <td>0.012643</td>\n",
       "      <td>0.001194</td>\n",
       "      <td>-0.006267</td>\n",
       "      <td>-0.014550</td>\n",
       "      <td>-0.026147</td>\n",
       "      <td>-0.024161</td>\n",
       "      <td>1.000000</td>\n",
       "    </tr>\n",
       "  </tbody>\n",
       "</table>\n",
       "</div>"
      ],
      "text/plain": [
       "               PatientId  AppointmentID       Age  Scholarship  Hipertension  \\\n",
       "PatientId       1.000000       0.004039 -0.004139    -0.002880     -0.006441   \n",
       "AppointmentID   0.004039       1.000000 -0.019126     0.022615      0.012752   \n",
       "Age            -0.004139      -0.019126  1.000000    -0.092457      0.504586   \n",
       "Scholarship    -0.002880       0.022615 -0.092457     1.000000     -0.019729   \n",
       "Hipertension   -0.006441       0.012752  0.504586    -0.019729      1.000000   \n",
       "Diabetes        0.001605       0.022628  0.292391    -0.024894      0.433086   \n",
       "Alcoholism      0.011011       0.032944  0.095811     0.035022      0.087971   \n",
       "Handcap        -0.007916       0.014106  0.078033    -0.008586      0.080083   \n",
       "SMS_received   -0.009749      -0.256618  0.012643     0.001194     -0.006267   \n",
       "\n",
       "               Diabetes  Alcoholism   Handcap  SMS_received  \n",
       "PatientId      0.001605    0.011011 -0.007916     -0.009749  \n",
       "AppointmentID  0.022628    0.032944  0.014106     -0.256618  \n",
       "Age            0.292391    0.095811  0.078033      0.012643  \n",
       "Scholarship   -0.024894    0.035022 -0.008586      0.001194  \n",
       "Hipertension   0.433086    0.087971  0.080083     -0.006267  \n",
       "Diabetes       1.000000    0.018474  0.057530     -0.014550  \n",
       "Alcoholism     0.018474    1.000000  0.004648     -0.026147  \n",
       "Handcap        0.057530    0.004648  1.000000     -0.024161  \n",
       "SMS_received  -0.014550   -0.026147 -0.024161      1.000000  "
      ]
     },
     "execution_count": 23,
     "metadata": {},
     "output_type": "execute_result"
    }
   ],
   "source": [
    "df.corr()"
   ]
  },
  {
   "cell_type": "markdown",
   "metadata": {},
   "source": [
    "可见，年龄与糖尿病、高血压之间存在中等强度的正相关关系，高血压和糖尿病之间存在中等强度的正相关关系，其它变量之间不存在明显的相关关系"
   ]
  },
  {
   "cell_type": "markdown",
   "metadata": {},
   "source": [
    "\n",
    "\n",
    "### 数据清理"
   ]
  },
  {
   "cell_type": "markdown",
   "metadata": {},
   "source": [
    "#### 1.错误数据清理"
   ]
  },
  {
   "cell_type": "markdown",
   "metadata": {},
   "source": [
    "1) 删除时间异常的记录"
   ]
  },
  {
   "cell_type": "code",
   "execution_count": 24,
   "metadata": {},
   "outputs": [],
   "source": [
    "df.drop(baddf.index,axis=0,inplace=True)"
   ]
  },
  {
   "cell_type": "code",
   "execution_count": 25,
   "metadata": {},
   "outputs": [
    {
     "data": {
      "text/html": [
       "<div>\n",
       "<style scoped>\n",
       "    .dataframe tbody tr th:only-of-type {\n",
       "        vertical-align: middle;\n",
       "    }\n",
       "\n",
       "    .dataframe tbody tr th {\n",
       "        vertical-align: top;\n",
       "    }\n",
       "\n",
       "    .dataframe thead th {\n",
       "        text-align: right;\n",
       "    }\n",
       "</style>\n",
       "<table border=\"1\" class=\"dataframe\">\n",
       "  <thead>\n",
       "    <tr style=\"text-align: right;\">\n",
       "      <th></th>\n",
       "      <th>PatientId</th>\n",
       "      <th>AppointmentID</th>\n",
       "      <th>Gender</th>\n",
       "      <th>ScheduledDay</th>\n",
       "      <th>AppointmentDay</th>\n",
       "      <th>Age</th>\n",
       "      <th>Neighbourhood</th>\n",
       "      <th>Scholarship</th>\n",
       "      <th>Hipertension</th>\n",
       "      <th>Diabetes</th>\n",
       "      <th>Alcoholism</th>\n",
       "      <th>Handcap</th>\n",
       "      <th>SMS_received</th>\n",
       "      <th>No-show</th>\n",
       "    </tr>\n",
       "  </thead>\n",
       "  <tbody>\n",
       "  </tbody>\n",
       "</table>\n",
       "</div>"
      ],
      "text/plain": [
       "Empty DataFrame\n",
       "Columns: [PatientId, AppointmentID, Gender, ScheduledDay, AppointmentDay, Age, Neighbourhood, Scholarship, Hipertension, Diabetes, Alcoholism, Handcap, SMS_received, No-show]\n",
       "Index: []"
      ]
     },
     "execution_count": 25,
     "metadata": {},
     "output_type": "execute_result"
    }
   ],
   "source": [
    "df[df['AppointmentDay'].dt.date<df['ScheduledDay'].dt.date]"
   ]
  },
  {
   "cell_type": "markdown",
   "metadata": {},
   "source": [
    "可见，已经成功删除了时间异常的记录。"
   ]
  },
  {
   "cell_type": "markdown",
   "metadata": {},
   "source": [
    "2) 删除年龄异常的记录。"
   ]
  },
  {
   "cell_type": "code",
   "execution_count": 26,
   "metadata": {},
   "outputs": [],
   "source": [
    "df.drop(df[df['Age']<0].index,axis=0,inplace=True)"
   ]
  },
  {
   "cell_type": "code",
   "execution_count": 27,
   "metadata": {},
   "outputs": [
    {
     "data": {
      "text/html": [
       "<div>\n",
       "<style scoped>\n",
       "    .dataframe tbody tr th:only-of-type {\n",
       "        vertical-align: middle;\n",
       "    }\n",
       "\n",
       "    .dataframe tbody tr th {\n",
       "        vertical-align: top;\n",
       "    }\n",
       "\n",
       "    .dataframe thead th {\n",
       "        text-align: right;\n",
       "    }\n",
       "</style>\n",
       "<table border=\"1\" class=\"dataframe\">\n",
       "  <thead>\n",
       "    <tr style=\"text-align: right;\">\n",
       "      <th></th>\n",
       "      <th>PatientId</th>\n",
       "      <th>AppointmentID</th>\n",
       "      <th>Gender</th>\n",
       "      <th>ScheduledDay</th>\n",
       "      <th>AppointmentDay</th>\n",
       "      <th>Age</th>\n",
       "      <th>Neighbourhood</th>\n",
       "      <th>Scholarship</th>\n",
       "      <th>Hipertension</th>\n",
       "      <th>Diabetes</th>\n",
       "      <th>Alcoholism</th>\n",
       "      <th>Handcap</th>\n",
       "      <th>SMS_received</th>\n",
       "      <th>No-show</th>\n",
       "    </tr>\n",
       "  </thead>\n",
       "  <tbody>\n",
       "  </tbody>\n",
       "</table>\n",
       "</div>"
      ],
      "text/plain": [
       "Empty DataFrame\n",
       "Columns: [PatientId, AppointmentID, Gender, ScheduledDay, AppointmentDay, Age, Neighbourhood, Scholarship, Hipertension, Diabetes, Alcoholism, Handcap, SMS_received, No-show]\n",
       "Index: []"
      ]
     },
     "execution_count": 27,
     "metadata": {},
     "output_type": "execute_result"
    }
   ],
   "source": [
    "df[df['Age']<0]"
   ]
  },
  {
   "cell_type": "markdown",
   "metadata": {},
   "source": [
    "可见，已经成功删除了年龄异常的记录"
   ]
  },
  {
   "cell_type": "markdown",
   "metadata": {},
   "source": [
    "#### 2.数据转换"
   ]
  },
  {
   "cell_type": "markdown",
   "metadata": {},
   "source": [
    "No-show变量，改名为show。同时该字段的值映射为：1——出席，0——缺席。"
   ]
  },
  {
   "cell_type": "code",
   "execution_count": 28,
   "metadata": {},
   "outputs": [],
   "source": [
    "df.rename(columns={'No-show':'Show'},inplace=True)"
   ]
  },
  {
   "cell_type": "code",
   "execution_count": 29,
   "metadata": {},
   "outputs": [],
   "source": [
    "df['Show']=df['Show'].map({'No':1,'Yes':0})"
   ]
  },
  {
   "cell_type": "code",
   "execution_count": 30,
   "metadata": {},
   "outputs": [
    {
     "data": {
      "text/plain": [
       "0.7981017182254956"
      ]
     },
     "execution_count": 30,
     "metadata": {},
     "output_type": "execute_result"
    }
   ],
   "source": [
    "df['Show'].mean()"
   ]
  },
  {
   "cell_type": "markdown",
   "metadata": {},
   "source": [
    "可见，该变量的均值与转换前'No-show'变量中取值No的比例一致。这说明，该变量已经成功完成预期的转化。"
   ]
  },
  {
   "cell_type": "markdown",
   "metadata": {},
   "source": [
    "#### 3. 转换列名"
   ]
  },
  {
   "cell_type": "markdown",
   "metadata": {},
   "source": [
    "将列名中不同的单词分开，并用下划线连接"
   ]
  },
  {
   "cell_type": "code",
   "execution_count": 31,
   "metadata": {},
   "outputs": [],
   "source": [
    "df.rename(columns={'PatientId':'Patient_Id','AppointmentID':'Appointment_ID','ScheduledDay':'Scheduled_Day','AppointmentDay':'Appointment_Day'},inplace=True)"
   ]
  },
  {
   "cell_type": "code",
   "execution_count": 32,
   "metadata": {},
   "outputs": [
    {
     "name": "stdout",
     "output_type": "stream",
     "text": [
      "<class 'pandas.core.frame.DataFrame'>\n",
      "Int64Index: 110521 entries, 0 to 110526\n",
      "Data columns (total 14 columns):\n",
      "Patient_Id         110521 non-null float64\n",
      "Appointment_ID     110521 non-null int64\n",
      "Gender             110521 non-null object\n",
      "Scheduled_Day      110521 non-null datetime64[ns, UTC]\n",
      "Appointment_Day    110521 non-null datetime64[ns, UTC]\n",
      "Age                110521 non-null int64\n",
      "Neighbourhood      110521 non-null object\n",
      "Scholarship        110521 non-null int64\n",
      "Hipertension       110521 non-null int64\n",
      "Diabetes           110521 non-null int64\n",
      "Alcoholism         110521 non-null int64\n",
      "Handcap            110521 non-null int64\n",
      "SMS_received       110521 non-null int64\n",
      "Show               110521 non-null int64\n",
      "dtypes: datetime64[ns, UTC](2), float64(1), int64(9), object(2)\n",
      "memory usage: 12.6+ MB\n"
     ]
    }
   ],
   "source": [
    "df.info()"
   ]
  },
  {
   "cell_type": "markdown",
   "metadata": {},
   "source": [
    "转换列名完成"
   ]
  },
  {
   "cell_type": "markdown",
   "metadata": {},
   "source": [
    "#### 4.新增变量"
   ]
  },
  {
   "cell_type": "markdown",
   "metadata": {},
   "source": [
    "1) 新增一列，记录居民预约后需要等待的天数，取名为“Awaiting_day”"
   ]
  },
  {
   "cell_type": "code",
   "execution_count": 33,
   "metadata": {},
   "outputs": [],
   "source": [
    "df['Awaiting_day']=df['Appointment_Day'].dt.date-df['Scheduled_Day'].dt.date"
   ]
  },
  {
   "cell_type": "code",
   "execution_count": 34,
   "metadata": {},
   "outputs": [
    {
     "data": {
      "image/png": "[encoded data removed]",
      "text/plain": [
       "<Figure size 576x360 with 1 Axes>"
      ]
     },
     "metadata": {
      "image/png": {
       "height": 305,
       "width": 484
      },
      "needs_background": "light"
     },
     "output_type": "display_data"
    }
   ],
   "source": [
    "plt.figure(figsize=(8,5))\n",
    "plt.boxplot(df['Awaiting_day']/np.timedelta64(1,'D'))\n",
    "plt.xticks([])\n",
    "plt.yticks(fontsize=10)\n",
    "plt.title(u'所有预约的等待天数',fontsize=14);"
   ]
  },
  {
   "cell_type": "markdown",
   "metadata": {},
   "source": [
    "可见，大部分居民的等待时间在1个月以内，但也有一些居民等了很长一段时间，最长接近6个月。"
   ]
  },
  {
   "cell_type": "markdown",
   "metadata": {},
   "source": [
    "2) 新增一列，记录本次预约是该居民的第几次预约,取名为“Appointment_rank”"
   ]
  },
  {
   "cell_type": "code",
   "execution_count": 35,
   "metadata": {},
   "outputs": [],
   "source": [
    "#一条预约信息对应于该用户的第几次预约\n",
    "def app_rank(df,col='Scheduled_Day'):\n",
    "    df['Appointment_rank']=df[col].rank(method='first').astype('int')\n",
    "    return df.sort_values(by='Scheduled_Day')"
   ]
  },
  {
   "cell_type": "code",
   "execution_count": 36,
   "metadata": {},
   "outputs": [],
   "source": [
    "df=df.groupby('Patient_Id').apply(app_rank)\n",
    "df.index=df.index.droplevel()"
   ]
  },
  {
   "cell_type": "code",
   "execution_count": 37,
   "metadata": {},
   "outputs": [
    {
     "data": {
      "text/plain": [
       "count    110521.000000\n",
       "mean          2.270220\n",
       "std           3.913467\n",
       "min           1.000000\n",
       "25%           1.000000\n",
       "50%           1.000000\n",
       "75%           2.000000\n",
       "max          88.000000\n",
       "Name: Appointment_rank, dtype: float64"
      ]
     },
     "execution_count": 37,
     "metadata": {},
     "output_type": "execute_result"
    }
   ],
   "source": [
    "df['Appointment_rank'].describe()"
   ]
  },
  {
   "cell_type": "markdown",
   "metadata": {},
   "source": [
    "可见，大多数的预约都是居民的第一次预约，预约最多的居民预约了88次。"
   ]
  },
  {
   "cell_type": "markdown",
   "metadata": {},
   "source": [
    "3) 新增两列，分别记录居民的过往出席次数和过往缺席次数，取名分别为“Show_record”和“Absent_record”"
   ]
  },
  {
   "cell_type": "code",
   "execution_count": 38,
   "metadata": {},
   "outputs": [],
   "source": [
    "#居民进行本次预约前已出席和缺席的次数\n",
    "def get_record(df):\n",
    "    df=df.sort_values(by='Appointment_rank')\n",
    "    df['Show_record']=df['Show'].cumsum()-df['Show']\n",
    "    df['Absent_record']=df['Appointment_rank']-1-df['Show_record']\n",
    "    return df"
   ]
  },
  {
   "cell_type": "code",
   "execution_count": 39,
   "metadata": {},
   "outputs": [],
   "source": [
    "df=df.groupby('Patient_Id').apply(get_record)\n",
    "df.index=df.index.droplevel()"
   ]
  },
  {
   "cell_type": "markdown",
   "metadata": {},
   "source": [
    "4) 新增一列，记录居民的总预约次数，取名为“Appointment_count”"
   ]
  },
  {
   "cell_type": "code",
   "execution_count": 40,
   "metadata": {},
   "outputs": [],
   "source": [
    "ap_count=df.groupby('Patient_Id')['Appointment_rank'].max().reset_index().rename(columns={'Appointment_rank':'Appointment_count'})\n",
    "df=df.merge(ap_count,on='Patient_Id',how='left')"
   ]
  },
  {
   "cell_type": "markdown",
   "metadata": {},
   "source": [
    "5) 新增两列，分别记录居民的总出席次数和总缺席次数，取名分别为“Show_count”和“Absent_count”"
   ]
  },
  {
   "cell_type": "code",
   "execution_count": 50,
   "metadata": {},
   "outputs": [],
   "source": [
    "sh_ab_count=df.groupby(['Patient_Id','Show']).size().unstack(level='Show').rename(columns={0:'Absent_count',1:'Show_count'}).fillna(0).astype('int')\n",
    "df=df.merge(sh_ab_count,on='Patient_Id',how='left')"
   ]
  },
  {
   "cell_type": "markdown",
   "metadata": {},
   "source": [
    "<a id='eda'></a>\n",
    "## 数据分析"
   ]
  },
  {
   "cell_type": "markdown",
   "metadata": {},
   "source": [
    "### 1. 时间因素"
   ]
  },
  {
   "cell_type": "markdown",
   "metadata": {},
   "source": [
    "#### 1) 出席率随时间的变化趋势"
   ]
  },
  {
   "cell_type": "code",
   "execution_count": 56,
   "metadata": {},
   "outputs": [
    {
     "name": "stderr",
     "output_type": "stream",
     "text": [
      "D:\\BaiduNetdiskDownload\\Anaconda3\\lib\\site-packages\\pandas\\core\\arrays\\datetimes.py:1172: UserWarning: Converting to PeriodArray/Index representation will drop timezone information.\n",
      "  \"will drop timezone information.\", UserWarning)\n"
     ]
    },
    {
     "data": {
      "text/html": [
       "<div>\n",
       "<style scoped>\n",
       "    .dataframe tbody tr th:only-of-type {\n",
       "        vertical-align: middle;\n",
       "    }\n",
       "\n",
       "    .dataframe tbody tr th {\n",
       "        vertical-align: top;\n",
       "    }\n",
       "\n",
       "    .dataframe thead th {\n",
       "        text-align: right;\n",
       "    }\n",
       "</style>\n",
       "<table border=\"1\" class=\"dataframe\">\n",
       "  <thead>\n",
       "    <tr style=\"text-align: right;\">\n",
       "      <th></th>\n",
       "      <th>预约时间</th>\n",
       "      <th>预约量</th>\n",
       "    </tr>\n",
       "  </thead>\n",
       "  <tbody>\n",
       "    <tr>\n",
       "      <th>0</th>\n",
       "      <td>2015-11</td>\n",
       "      <td>1</td>\n",
       "    </tr>\n",
       "    <tr>\n",
       "      <th>1</th>\n",
       "      <td>2015-12</td>\n",
       "      <td>61</td>\n",
       "    </tr>\n",
       "    <tr>\n",
       "      <th>2</th>\n",
       "      <td>2016-01</td>\n",
       "      <td>60</td>\n",
       "    </tr>\n",
       "    <tr>\n",
       "      <th>3</th>\n",
       "      <td>2016-02</td>\n",
       "      <td>281</td>\n",
       "    </tr>\n",
       "    <tr>\n",
       "      <th>4</th>\n",
       "      <td>2016-03</td>\n",
       "      <td>3614</td>\n",
       "    </tr>\n",
       "    <tr>\n",
       "      <th>5</th>\n",
       "      <td>2016-04</td>\n",
       "      <td>25339</td>\n",
       "    </tr>\n",
       "    <tr>\n",
       "      <th>6</th>\n",
       "      <td>2016-05</td>\n",
       "      <td>67416</td>\n",
       "    </tr>\n",
       "    <tr>\n",
       "      <th>7</th>\n",
       "      <td>2016-06</td>\n",
       "      <td>13749</td>\n",
       "    </tr>\n",
       "  </tbody>\n",
       "</table>\n",
       "</div>"
      ],
      "text/plain": [
       "      预约时间    预约量\n",
       "0  2015-11      1\n",
       "1  2015-12     61\n",
       "2  2016-01     60\n",
       "3  2016-02    281\n",
       "4  2016-03   3614\n",
       "5  2016-04  25339\n",
       "6  2016-05  67416\n",
       "7  2016-06  13749"
      ]
     },
     "execution_count": 56,
     "metadata": {},
     "output_type": "execute_result"
    }
   ],
   "source": [
    "df.groupby(df['Scheduled_Day'].dt.to_period('M'))['Appointment_ID'].count().reset_index().rename(columns={'Scheduled_Day':u'预约时间','Appointment_ID':u'预约量'})"
   ]
  },
  {
   "cell_type": "markdown",
   "metadata": {},
   "source": [
    "上表显示了不同月份的预约数量。可见，绝大部分预约都集中在2016年4月-6月，2015年11月的预约仅有1次。为了排除分母过小的影响，选取2015年12月以后的预约信息，来查看赴约率的变化趋势"
   ]
  },
  {
   "cell_type": "code",
   "execution_count": 57,
   "metadata": {},
   "outputs": [
    {
     "name": "stderr",
     "output_type": "stream",
     "text": [
      "D:\\BaiduNetdiskDownload\\Anaconda3\\lib\\site-packages\\pandas\\core\\arrays\\datetimes.py:1172: UserWarning: Converting to PeriodArray/Index representation will drop timezone information.\n",
      "  \"will drop timezone information.\", UserWarning)\n"
     ]
    },
    {
     "data": {
      "image/png": "[encoded data removed]",
      "text/plain": [
       "<Figure size 720x432 with 1 Axes>"
      ]
     },
     "metadata": {
      "image/png": {
       "height": 388,
       "width": 615
      },
      "needs_background": "light"
     },
     "output_type": "display_data"
    }
   ],
   "source": [
    "import datetime\n",
    "trend_rate=df[df['Scheduled_Day'].dt.month!=11].groupby(df['Scheduled_Day'].dt.to_period('M'))['Show'].mean()\n",
    "plt.figure(figsize=(10,6))\n",
    "plt.plot(range(trend_rate.size),trend_rate.values,'o-',color='#FED568');\n",
    "plt.xticks(range(trend_rate.size),list(trend_rate.index),fontsize=10)\n",
    "plt.yticks(fontsize=10)\n",
    "plt.grid(axis='y')\n",
    "plt.xlabel(u'时间',fontsize=12)\n",
    "plt.ylabel(u'赴约率',fontsize=12)\n",
    "plt.title(u'赴约率随时间的变化趋势',fontsize=14);"
   ]
  },
  {
   "cell_type": "markdown",
   "metadata": {},
   "source": [
    "可见，2016年4月及以前预约的赴约率是较低的，5月和6月预约的赴约率较高。而实际就诊的日期最早也是从2016年4月29日开始，因此，在2016年4月以前预约的居民很有可能是因为等待时间过长而没有按时赴约。"
   ]
  },
  {
   "cell_type": "markdown",
   "metadata": {},
   "source": [
    "#### 2) 等待时间与出席率的相关性"
   ]
  },
  {
   "cell_type": "markdown",
   "metadata": {},
   "source": [
    "将等待时间分为以下几个时间段：0天(即当天就诊)、1天、2天、3天、4天、5天、6-7天、8-10天、11-15天、16-30天、30天-60天、60天以上"
   ]
  },
  {
   "cell_type": "code",
   "execution_count": 58,
   "metadata": {},
   "outputs": [],
   "source": [
    "df['Awaiting_day_divide']=pd.cut(df['Awaiting_day'].astype('timedelta64[D]'),[-1,0,1,2,3,4,5,7,10,15,30,60,200],labels=[u'当天就诊','1','2','3','4','5','6-7','8-10','11-15','16-30','30-60',u'60以上'])"
   ]
  },
  {
   "cell_type": "code",
   "execution_count": 167,
   "metadata": {},
   "outputs": [
    {
     "data": {
      "image/png": "[encoded data removed]",
      "text/plain": [
       "<Figure size 720x432 with 2 Axes>"
      ]
     },
     "metadata": {
      "image/png": {
       "height": 397,
       "width": 676
      },
      "needs_background": "light"
     },
     "output_type": "display_data"
    }
   ],
   "source": [
    "wait_count=df.groupby(['Awaiting_day_divide'])['Show'].count().sort_index()\n",
    "fig=plt.figure(figsize=(10,6))\n",
    "ax1=fig.add_subplot(111)\n",
    "ax1.bar(range(1,wait_count.size+1),wait_count.values.tolist(),color='#50A5A6');\n",
    "plt.legend(['预约量'],loc=(0.65,0.92))\n",
    "plt.xticks(range(1,wait_count.size+1),wait_count.index.tolist(),fontsize=12)\n",
    "plt.yticks(fontsize=12)\n",
    "plt.xlabel(u'等待时间(天)',fontsize=15);\n",
    "plt.ylabel(u'预约量',fontsize=15);\n",
    "ax2=ax1.twinx()\n",
    "wait_mean=df.groupby(['Awaiting_day_divide'])['Show'].mean()\n",
    "ax2.plot(range(1,wait_mean.size+1),wait_mean.values.tolist(),'o-',color='#FFD700');\n",
    "plt.legend(['赴约率'],loc=(0.8,0.92))\n",
    "plt.yticks(np.linspace(0.6,1,9),fontsize=12)\n",
    "plt.grid(axis='y')\n",
    "plt.ylim([0.6,1])\n",
    "plt.ylabel(u'赴约率',fontsize=15);\n",
    "plt.title(u'赴约率与居民等待时间的关系',fontsize=18);"
   ]
  },
  {
   "cell_type": "markdown",
   "metadata": {},
   "source": [
    "数据显示，当天就诊的赴约率远远高于需要等待1天以上的赴约率。当等待时间超过1个星期时，赴约率会比较低。有一点比较反常的是，当等待时间超过2个月时，赴约率反而会相对较高，这可能是由于提前几个月预约的居民往往相对更重视此次就诊。但其赴约率仍然低于等待时间不超过1星期的情况。"
   ]
  },
  {
   "cell_type": "markdown",
   "metadata": {},
   "source": [
    "#### 3) 在哪些时间点上做出的预约更有可能出现爽约的现象"
   ]
  },
  {
   "cell_type": "markdown",
   "metadata": {},
   "source": [
    "**a. 一个星期中哪几天的预约更有可能出现爽约的情况**"
   ]
  },
  {
   "cell_type": "code",
   "execution_count": 60,
   "metadata": {},
   "outputs": [],
   "source": [
    "S_weekday_rate=df.groupby(df['Scheduled_Day'].dt.dayofweek)['Show'].agg(['count','mean'])\n",
    "S_weekday_rate.to_csv('S_weekday_rate.csv')"
   ]
  },
  {
   "cell_type": "code",
   "execution_count": 133,
   "metadata": {},
   "outputs": [
    {
     "data": {
      "text/html": [
       "<img src=\"预约星期X-赴约率.jpg\" width=80%>"
      ],
      "text/plain": [
       "<IPython.core.display.HTML object>"
      ]
     },
     "metadata": {},
     "output_type": "display_data"
    }
   ],
   "source": [
    "%%html\n",
    "<img src=\"预约星期X-赴约率.jpg\" width=80%>"
   ]
  },
  {
   "cell_type": "markdown",
   "metadata": {},
   "source": [
    "数据显示，预约主要集中在周一到周五，周末的预约可以忽略不计。赴约率与一星期中哪一天做出的预约没有明显的关联。(注：由于星期六的预约数量只有24次，因此星期六的赴约率受个体随机因素影响较大，不具备参考性。)"
   ]
  },
  {
   "cell_type": "markdown",
   "metadata": {},
   "source": [
    "**b. 一天中哪几个时间段的预约更有可能出现爽约的情况**"
   ]
  },
  {
   "cell_type": "code",
   "execution_count": 62,
   "metadata": {},
   "outputs": [],
   "source": [
    "S_hour_rate=df.groupby(df['Scheduled_Day'].dt.hour)['Show'].agg(['count','mean'])\n",
    "S_hour_rate.to_csv('S_hour_rate.csv')"
   ]
  },
  {
   "cell_type": "code",
   "execution_count": 134,
   "metadata": {},
   "outputs": [
    {
     "data": {
      "text/html": [
       "<img src=\"x时预约-赴约率.jpg\" width=80%>"
      ],
      "text/plain": [
       "<IPython.core.display.HTML object>"
      ]
     },
     "metadata": {},
     "output_type": "display_data"
    }
   ],
   "source": [
    "%%html\n",
    "<img src=\"x时预约-赴约率.jpg\" width=80%>"
   ]
  },
  {
   "cell_type": "markdown",
   "metadata": {},
   "source": [
    "数据显示，一天的预约从清晨6点开始，到晚上10点结束。清晨时的预约会出现较高的赴约率，20点以后的赴约率明显低于其它时间的赴约率。考虑到20点以后的预约量较少且赴约率低，可以尝试将预约提前到20点结束，这样做一方面可以减轻工作人员的负担，另一方面也有利于提高赴约率。"
   ]
  },
  {
   "cell_type": "markdown",
   "metadata": {},
   "source": [
    "#### 4)在哪些时间点上就诊更可能出现爽约现象？"
   ]
  },
  {
   "cell_type": "markdown",
   "metadata": {},
   "source": [
    "**a. 在一个星期的哪一天就诊更可能缺勤？**"
   ]
  },
  {
   "cell_type": "code",
   "execution_count": 64,
   "metadata": {},
   "outputs": [],
   "source": [
    "A_weekday_show=df.groupby(df['Appointment_Day'].dt.dayofweek)['Show'].agg(['count','mean'])\n",
    "A_weekday_show.to_csv('a_weekday_show.csv')"
   ]
  },
  {
   "cell_type": "code",
   "execution_count": 135,
   "metadata": {},
   "outputs": [
    {
     "data": {
      "text/html": [
       "<img src=\"就诊星期x-赴约率.jpg\" width=80%>"
      ],
      "text/plain": [
       "<IPython.core.display.HTML object>"
      ]
     },
     "metadata": {},
     "output_type": "display_data"
    }
   ],
   "source": [
    "%%html\n",
    "<img src=\"就诊星期x-赴约率.jpg\" width=80%>"
   ]
  },
  {
   "cell_type": "markdown",
   "metadata": {},
   "source": [
    "可见，就诊时间几乎都安排在周一至周五，换句话说，几乎所有患者都需要通过向公司请假来完成就诊，这或许是赴约率不高的原因之一。<br>\n",
    "另外，排除分母过小的因素后，从周一到周六，赴约率没有明显的差异。"
   ]
  },
  {
   "cell_type": "markdown",
   "metadata": {},
   "source": [
    "#### 5) 小结"
   ]
  },
  {
   "cell_type": "markdown",
   "metadata": {},
   "source": [
    "- 尽量将就诊时间安排在预约的当天，因为当天就诊的赴约率远高于需要等待1天以上的情况。<br><br>\n",
    "- 若无法将就诊时间安排在当天，尽量让等待时间低于7天。若无法满足等待时间低于7天，就最好让等待时间超过2个月。因为等待时间介于1周和2个月之间的赴约率是最低的。<br><br>\n",
    "- 可以尝试将一天中的预约时间提前到20点结束，因为20-22点预约的赴约率低于其它时间段，并且这个时间段的预约量很小。提前结束可以减轻工作人员的负担，同时对居民的预约需求影响极小，还有利于提高赴约率。<br><br>\n",
    "- 如果尝试将就诊时间开放至周末，可能会改善出勤状况。"
   ]
  },
  {
   "cell_type": "markdown",
   "metadata": {},
   "source": [
    "## 2.居民特征"
   ]
  },
  {
   "cell_type": "markdown",
   "metadata": {},
   "source": [
    "#### 1）个人基本情况"
   ]
  },
  {
   "cell_type": "markdown",
   "metadata": {},
   "source": [
    "**a. 性别与赴约率的关系**"
   ]
  },
  {
   "cell_type": "code",
   "execution_count": 168,
   "metadata": {},
   "outputs": [
    {
     "data": {
      "image/png": "[encoded data removed]",
      "text/plain": [
       "<Figure size 576x360 with 1 Axes>"
      ]
     },
     "metadata": {
      "image/png": {
       "height": 342,
       "width": 505
      },
      "needs_background": "light"
     },
     "output_type": "display_data"
    }
   ],
   "source": [
    "Gender_attend=df.groupby(['Gender'])['Show'].mean()\n",
    "plt.figure(figsize=(8,5))\n",
    "plt.bar(range(1,3),[Gender_attend['M'],Gender_attend['F']],tick_label=[u'男',u'女'],color='#50A5A6');\n",
    "plt.xticks(fontsize=12)\n",
    "plt.yticks(fontsize=12)\n",
    "plt.xlabel(u'性别',fontsize=15);\n",
    "plt.ylabel(u'赴约率',fontsize=15);\n",
    "plt.title(u'赴约率与性别的关系',fontsize=18);"
   ]
  },
  {
   "cell_type": "code",
   "execution_count": 67,
   "metadata": {},
   "outputs": [
    {
     "data": {
      "text/html": [
       "<div>\n",
       "<style scoped>\n",
       "    .dataframe tbody tr th:only-of-type {\n",
       "        vertical-align: middle;\n",
       "    }\n",
       "\n",
       "    .dataframe tbody tr th {\n",
       "        vertical-align: top;\n",
       "    }\n",
       "\n",
       "    .dataframe thead th {\n",
       "        text-align: right;\n",
       "    }\n",
       "</style>\n",
       "<table border=\"1\" class=\"dataframe\">\n",
       "  <thead>\n",
       "    <tr style=\"text-align: right;\">\n",
       "      <th></th>\n",
       "      <th>性别</th>\n",
       "      <th>数量</th>\n",
       "    </tr>\n",
       "  </thead>\n",
       "  <tbody>\n",
       "    <tr>\n",
       "      <th>0</th>\n",
       "      <td>女</td>\n",
       "      <td>71836</td>\n",
       "    </tr>\n",
       "    <tr>\n",
       "      <th>1</th>\n",
       "      <td>男</td>\n",
       "      <td>38685</td>\n",
       "    </tr>\n",
       "  </tbody>\n",
       "</table>\n",
       "</div>"
      ],
      "text/plain": [
       "  性别     数量\n",
       "0  女  71836\n",
       "1  男  38685"
      ]
     },
     "execution_count": 67,
     "metadata": {},
     "output_type": "execute_result"
    }
   ],
   "source": [
    "Gender_count=df.groupby('Gender').size().reset_index().rename(columns={'Gender':u'性别',0:u'数量'})\n",
    "Gender_count[u'性别']=Gender_count[u'性别'].map({'M':u'男','F':u'女'})\n",
    "Gender_count"
   ]
  },
  {
   "cell_type": "markdown",
   "metadata": {},
   "source": [
    "可见，赴约率与性别没有明显的关联。"
   ]
  },
  {
   "cell_type": "markdown",
   "metadata": {},
   "source": [
    "**b. 年龄和赴约率的关系**"
   ]
  },
  {
   "cell_type": "code",
   "execution_count": 68,
   "metadata": {},
   "outputs": [],
   "source": [
    "#将年龄按等预约数量分为12组\n",
    "age_show=df.groupby(pd.qcut(df['Age'],12,precision=0))['Show'].agg([('attend_rate','mean'),'count']).reset_index()"
   ]
  },
  {
   "cell_type": "code",
   "execution_count": 69,
   "metadata": {},
   "outputs": [],
   "source": [
    "age_show['Age']=age_show['Age'].astype('str').apply(lambda x:str(int(float(x[x.index('(')+1:x.index(',')]))+1)+'-'+str(int(float(x[x.index(',')+1:x.index(']')]))))\n",
    "age_show.to_csv('age_show.csv')"
   ]
  },
  {
   "cell_type": "code",
   "execution_count": 136,
   "metadata": {},
   "outputs": [
    {
     "data": {
      "text/html": [
       "<img src=\"年龄-赴约率.jpg\" width=80%>"
      ],
      "text/plain": [
       "<IPython.core.display.HTML object>"
      ]
     },
     "metadata": {},
     "output_type": "display_data"
    }
   ],
   "source": [
    "%%html\n",
    "<img src=\"年龄-赴约率.jpg\" width=80%>"
   ]
  },
  {
   "cell_type": "markdown",
   "metadata": {},
   "source": [
    "可见，出席率随年龄的增长而呈现先下降后上升的趋势，其中，11-24岁的居民出席率最低。年龄小的居民出席率高，可能是由于父母对病情的关注；年龄较大的居民出席率高，可能是因为中老年人对待事物相对慎重，对自己的健康也比较关心，会把预约就诊的事放在心上；而青少年可能做决定比较轻率，于是造成了爽约较多的情况。"
   ]
  },
  {
   "cell_type": "markdown",
   "metadata": {},
   "source": [
    "**c. 政府贫困补助金领取情况和赴约率的关系**"
   ]
  },
  {
   "cell_type": "code",
   "execution_count": 71,
   "metadata": {},
   "outputs": [],
   "source": [
    "scho_wait_SMS_rate=df.groupby(['Scholarship','Awaiting_day_divide','SMS_received'])['Show'].agg(['count','mean']).unstack(level=['Scholarship','SMS_received'])\n",
    "scho_wait_SMS_rate.to_csv('scholarship_wait_SMS_rate.csv')"
   ]
  },
  {
   "cell_type": "code",
   "execution_count": 137,
   "metadata": {},
   "outputs": [
    {
     "data": {
      "text/html": [
       "<img src=\"等待天数-补助-赴约率.jpg\" width=80%>"
      ],
      "text/plain": [
       "<IPython.core.display.HTML object>"
      ]
     },
     "metadata": {},
     "output_type": "display_data"
    }
   ],
   "source": [
    "%%html\n",
    "<img src=\"等待天数-补助-赴约率.jpg\" width=80%>"
   ]
  },
  {
   "cell_type": "markdown",
   "metadata": {},
   "source": [
    "数据显示，当等待时间不超过3天时，领取贫困补助金的居民与没有贫困补助金的居民在赴约率上差异不大；当等待时间超过3天时，领取贫困补助金的居民与没有贫困补助金的居民在出席率上的差异大大增加，差异超过了10个百分点。这表明，等待时间的延长对于领取贫困补助金的居民影响更大。<br><br>\n",
    "那么，为什么在等待时间较长时领取贫困补助的居民出勤情况会很糟糕呢？下图给出了一定的解释。"
   ]
  },
  {
   "cell_type": "code",
   "execution_count": 138,
   "metadata": {},
   "outputs": [
    {
     "data": {
      "text/html": [
       "<img src=\"补助-短信-赴约率.jpg\" width=80%>"
      ],
      "text/plain": [
       "<IPython.core.display.HTML object>"
      ]
     },
     "metadata": {},
     "output_type": "display_data"
    }
   ],
   "source": [
    "%%html\n",
    "<img src=\"补助-短信-赴约率.jpg\" width=80%>"
   ]
  },
  {
   "cell_type": "markdown",
   "metadata": {},
   "source": [
    "接收通知短信对于领取贫困补助居民的出勤提升效果大于不领取贫困补助的居民，这表明，领取贫困补助的居民更有可能忘记自己原先的预约。<br><br>\n",
    "除开通知短信的因素，在等待时间较长时，领取补助金的居民在出勤上的表现仍然较大幅度地差于没领取补助金的居民，这说明领取贫困补助金的居民更有可能改变自己原先就诊的决定。\n",
    "<br><br>之所以这些居民会改变自己的就诊决定，可能是因为：(1)他们相对于较富有的居民来说不那么相信医院的治疗效果，他们可能更容易去相信一些民间流传的偏方或者宗教治病的观念；(2)他们还可能在预约后又感觉自己病没那么重了，于是觉得没有必要治疗。这些情况发生的概率随着等待时间的延长而加大。\n",
    "<br><br>\n",
    "基于以上分析，建议：\n",
    "1. 等待时间较长时，及时发送通知短信，以防居民忘记预约\n",
    "2. 尽量让领取贫困补助的居民尽快就诊\n",
    "3. 在居民等待的过程中，加大对于医疗科学有效性的宣传，教育居民不要随意相信某些偏方\n",
    "4. 针对病情理解的误区进行科普，防止自以为病好了就不再就诊的情况发生\n",
    "5. 将领取贫困补助金的资格与就诊出席率捆绑，减少领取补助居民浪费资源的情况发生"
   ]
  },
  {
   "cell_type": "markdown",
   "metadata": {},
   "source": [
    "#### 2）个人健康情况"
   ]
  },
  {
   "cell_type": "markdown",
   "metadata": {},
   "source": [
    "**a. 赴约率与患高血压的关系**"
   ]
  },
  {
   "cell_type": "code",
   "execution_count": 169,
   "metadata": {},
   "outputs": [
    {
     "data": {
      "image/png": "[encoded data removed]",
      "text/plain": [
       "<Figure size 576x360 with 1 Axes>"
      ]
     },
     "metadata": {
      "image/png": {
       "height": 341,
       "width": 505
      },
      "needs_background": "light"
     },
     "output_type": "display_data"
    }
   ],
   "source": [
    "Hip_attend=df.groupby(['Hipertension'])['Show'].mean()\n",
    "plt.figure(figsize=(8,5))\n",
    "plt.bar(range(1,3),[Hip_attend[0],Hip_attend[1]],tick_label=[u'无',u'有'],color='#50A5A6');\n",
    "plt.xticks(fontsize=12)\n",
    "plt.yticks(fontsize=12)\n",
    "plt.xlabel(u'高血压',fontsize=15);\n",
    "plt.ylabel(u'赴约率',fontsize=15);\n",
    "plt.title(u'赴约率与高血压的关系',fontsize=18);"
   ]
  },
  {
   "cell_type": "code",
   "execution_count": 75,
   "metadata": {},
   "outputs": [
    {
     "data": {
      "text/html": [
       "<div>\n",
       "<style scoped>\n",
       "    .dataframe tbody tr th:only-of-type {\n",
       "        vertical-align: middle;\n",
       "    }\n",
       "\n",
       "    .dataframe tbody tr th {\n",
       "        vertical-align: top;\n",
       "    }\n",
       "\n",
       "    .dataframe thead th {\n",
       "        text-align: right;\n",
       "    }\n",
       "</style>\n",
       "<table border=\"1\" class=\"dataframe\">\n",
       "  <thead>\n",
       "    <tr style=\"text-align: right;\">\n",
       "      <th></th>\n",
       "      <th>高血压</th>\n",
       "      <th>数量</th>\n",
       "    </tr>\n",
       "  </thead>\n",
       "  <tbody>\n",
       "    <tr>\n",
       "      <th>0</th>\n",
       "      <td>无</td>\n",
       "      <td>88720</td>\n",
       "    </tr>\n",
       "    <tr>\n",
       "      <th>1</th>\n",
       "      <td>有</td>\n",
       "      <td>21801</td>\n",
       "    </tr>\n",
       "  </tbody>\n",
       "</table>\n",
       "</div>"
      ],
      "text/plain": [
       "  高血压     数量\n",
       "0   无  88720\n",
       "1   有  21801"
      ]
     },
     "execution_count": 75,
     "metadata": {},
     "output_type": "execute_result"
    }
   ],
   "source": [
    "Hip_count=df.groupby(['Hipertension']).size().reset_index().rename(columns={'Hipertension':u'高血压',0:u'数量'})\n",
    "Hip_count[u'高血压']=Hip_count[u'高血压'].map({0:u'无',1:u'有'})\n",
    "Hip_count"
   ]
  },
  {
   "cell_type": "markdown",
   "metadata": {},
   "source": [
    "可见，高血压患者的赴约率略高于非高血压患者"
   ]
  },
  {
   "cell_type": "markdown",
   "metadata": {},
   "source": [
    "**b. 赴约率与患糖尿病的关系**"
   ]
  },
  {
   "cell_type": "code",
   "execution_count": 170,
   "metadata": {},
   "outputs": [
    {
     "data": {
      "image/png": "[encoded data removed]",
      "text/plain": [
       "<Figure size 576x360 with 1 Axes>"
      ]
     },
     "metadata": {
      "image/png": {
       "height": 342,
       "width": 505
      },
      "needs_background": "light"
     },
     "output_type": "display_data"
    }
   ],
   "source": [
    "Dia_attend=df.groupby(['Diabetes'])['Show'].mean()\n",
    "plt.figure(figsize=(8,5))\n",
    "plt.bar(range(1,3),[Dia_attend[0],Dia_attend[1]],tick_label=[u'无',u'有'],color='#50A5A6');\n",
    "plt.xticks(fontsize=12)\n",
    "plt.yticks(fontsize=12)\n",
    "plt.xlabel(u'糖尿病',fontsize=15);\n",
    "plt.ylabel(u'赴约率',fontsize=15);\n",
    "plt.title(u'赴约率与糖尿病的关系',fontsize=18);"
   ]
  },
  {
   "cell_type": "code",
   "execution_count": 77,
   "metadata": {},
   "outputs": [
    {
     "data": {
      "text/html": [
       "<div>\n",
       "<style scoped>\n",
       "    .dataframe tbody tr th:only-of-type {\n",
       "        vertical-align: middle;\n",
       "    }\n",
       "\n",
       "    .dataframe tbody tr th {\n",
       "        vertical-align: top;\n",
       "    }\n",
       "\n",
       "    .dataframe thead th {\n",
       "        text-align: right;\n",
       "    }\n",
       "</style>\n",
       "<table border=\"1\" class=\"dataframe\">\n",
       "  <thead>\n",
       "    <tr style=\"text-align: right;\">\n",
       "      <th></th>\n",
       "      <th>糖尿病</th>\n",
       "      <th>数量</th>\n",
       "    </tr>\n",
       "  </thead>\n",
       "  <tbody>\n",
       "    <tr>\n",
       "      <th>0</th>\n",
       "      <td>无</td>\n",
       "      <td>102578</td>\n",
       "    </tr>\n",
       "    <tr>\n",
       "      <th>1</th>\n",
       "      <td>有</td>\n",
       "      <td>7943</td>\n",
       "    </tr>\n",
       "  </tbody>\n",
       "</table>\n",
       "</div>"
      ],
      "text/plain": [
       "  糖尿病      数量\n",
       "0   无  102578\n",
       "1   有    7943"
      ]
     },
     "execution_count": 77,
     "metadata": {},
     "output_type": "execute_result"
    }
   ],
   "source": [
    "Dia_count=df.groupby(['Diabetes']).size().reset_index().rename(columns={'Diabetes':u'糖尿病',0:u'数量'})\n",
    "Dia_count[u'糖尿病']=Dia_count[u'糖尿病'].map({0:u'无',1:u'有'})\n",
    "Dia_count"
   ]
  },
  {
   "cell_type": "markdown",
   "metadata": {},
   "source": [
    "可见，糖尿病患者的赴约率比非糖尿病患者略微高出一点"
   ]
  },
  {
   "cell_type": "markdown",
   "metadata": {},
   "source": [
    "**c. 赴约率与酗酒的关系**"
   ]
  },
  {
   "cell_type": "code",
   "execution_count": 171,
   "metadata": {},
   "outputs": [
    {
     "data": {
      "image/png": "[encoded data removed]",
      "text/plain": [
       "<Figure size 576x360 with 1 Axes>"
      ]
     },
     "metadata": {
      "image/png": {
       "height": 341,
       "width": 505
      },
      "needs_background": "light"
     },
     "output_type": "display_data"
    }
   ],
   "source": [
    "Alc_attend=df.groupby(['Alcoholism'])['Show'].mean()\n",
    "plt.figure(figsize=(8,5))\n",
    "plt.bar(range(1,3),[Alc_attend[0],Alc_attend[1]],tick_label=[u'否',u'是'],color='#50A5A6');\n",
    "plt.xticks(fontsize=12)\n",
    "plt.yticks(fontsize=12)\n",
    "plt.xlabel(u'酗酒',fontsize=15);\n",
    "plt.ylabel(u'赴约率',fontsize=15);\n",
    "plt.title(u'赴约率与病人是否酗酒的关系',fontsize=18);"
   ]
  },
  {
   "cell_type": "code",
   "execution_count": 79,
   "metadata": {},
   "outputs": [
    {
     "data": {
      "text/html": [
       "<div>\n",
       "<style scoped>\n",
       "    .dataframe tbody tr th:only-of-type {\n",
       "        vertical-align: middle;\n",
       "    }\n",
       "\n",
       "    .dataframe tbody tr th {\n",
       "        vertical-align: top;\n",
       "    }\n",
       "\n",
       "    .dataframe thead th {\n",
       "        text-align: right;\n",
       "    }\n",
       "</style>\n",
       "<table border=\"1\" class=\"dataframe\">\n",
       "  <thead>\n",
       "    <tr style=\"text-align: right;\">\n",
       "      <th></th>\n",
       "      <th>酗酒</th>\n",
       "      <th>数量</th>\n",
       "    </tr>\n",
       "  </thead>\n",
       "  <tbody>\n",
       "    <tr>\n",
       "      <th>0</th>\n",
       "      <td>否</td>\n",
       "      <td>107161</td>\n",
       "    </tr>\n",
       "    <tr>\n",
       "      <th>1</th>\n",
       "      <td>是</td>\n",
       "      <td>3360</td>\n",
       "    </tr>\n",
       "  </tbody>\n",
       "</table>\n",
       "</div>"
      ],
      "text/plain": [
       "  酗酒      数量\n",
       "0  否  107161\n",
       "1  是    3360"
      ]
     },
     "execution_count": 79,
     "metadata": {},
     "output_type": "execute_result"
    }
   ],
   "source": [
    "Alc_count=df.groupby(['Alcoholism']).size().reset_index().rename(columns={'Alcoholism':u'酗酒',0:u'数量'})\n",
    "Alc_count[u'酗酒']=Alc_count[u'酗酒'].map({0:u'否',1:u'是'})\n",
    "Alc_count"
   ]
  },
  {
   "cell_type": "markdown",
   "metadata": {},
   "source": [
    "可见，赴约率与是否酗酒没有关系"
   ]
  },
  {
   "cell_type": "markdown",
   "metadata": {},
   "source": [
    "**d. 赴约率与残疾程度的关系**"
   ]
  },
  {
   "cell_type": "code",
   "execution_count": 172,
   "metadata": {},
   "outputs": [
    {
     "data": {
      "image/png": "[encoded data removed]",
      "text/plain": [
       "<Figure size 576x360 with 1 Axes>"
      ]
     },
     "metadata": {
      "image/png": {
       "height": 341,
       "width": 505
      },
      "needs_background": "light"
     },
     "output_type": "display_data"
    }
   ],
   "source": [
    "Han_attend=df.groupby(['Handcap'])['Show'].mean()\n",
    "plt.figure(figsize=(8,5))\n",
    "plt.bar(Han_attend.index,Han_attend.values,color='#50A5A6');\n",
    "plt.xticks(fontsize=12)\n",
    "plt.yticks(fontsize=12)\n",
    "plt.xlabel(u'残疾程度',fontsize=15);\n",
    "plt.ylabel(u'赴约率',fontsize=15);\n",
    "plt.title(u'赴约率与病人残疾程度的关系',fontsize=18);"
   ]
  },
  {
   "cell_type": "code",
   "execution_count": 81,
   "metadata": {},
   "outputs": [
    {
     "data": {
      "text/html": [
       "<div>\n",
       "<style scoped>\n",
       "    .dataframe tbody tr th:only-of-type {\n",
       "        vertical-align: middle;\n",
       "    }\n",
       "\n",
       "    .dataframe tbody tr th {\n",
       "        vertical-align: top;\n",
       "    }\n",
       "\n",
       "    .dataframe thead th {\n",
       "        text-align: right;\n",
       "    }\n",
       "</style>\n",
       "<table border=\"1\" class=\"dataframe\">\n",
       "  <thead>\n",
       "    <tr style=\"text-align: right;\">\n",
       "      <th></th>\n",
       "      <th>残疾程度</th>\n",
       "      <th>数量</th>\n",
       "    </tr>\n",
       "  </thead>\n",
       "  <tbody>\n",
       "    <tr>\n",
       "      <th>0</th>\n",
       "      <td>0</td>\n",
       "      <td>108282</td>\n",
       "    </tr>\n",
       "    <tr>\n",
       "      <th>1</th>\n",
       "      <td>1</td>\n",
       "      <td>2040</td>\n",
       "    </tr>\n",
       "    <tr>\n",
       "      <th>2</th>\n",
       "      <td>2</td>\n",
       "      <td>183</td>\n",
       "    </tr>\n",
       "    <tr>\n",
       "      <th>3</th>\n",
       "      <td>3</td>\n",
       "      <td>13</td>\n",
       "    </tr>\n",
       "    <tr>\n",
       "      <th>4</th>\n",
       "      <td>4</td>\n",
       "      <td>3</td>\n",
       "    </tr>\n",
       "  </tbody>\n",
       "</table>\n",
       "</div>"
      ],
      "text/plain": [
       "   残疾程度      数量\n",
       "0     0  108282\n",
       "1     1    2040\n",
       "2     2     183\n",
       "3     3      13\n",
       "4     4       3"
      ]
     },
     "execution_count": 81,
     "metadata": {},
     "output_type": "execute_result"
    }
   ],
   "source": [
    "df.groupby(['Handcap']).size().reset_index().rename(columns={'Handcap':u'残疾程度',0:u'数量'})"
   ]
  },
  {
   "cell_type": "markdown",
   "metadata": {},
   "source": [
    "从整体上看，居民的残疾程度对赴约率的影响极小。（注：由于残疾程度在3以上的病人数量过小，其赴约率受个体因素影响较大，因此这些病人的整体赴约率参考性不大。）"
   ]
  },
  {
   "cell_type": "markdown",
   "metadata": {},
   "source": [
    "#### 3）人群分布"
   ]
  },
  {
   "cell_type": "markdown",
   "metadata": {},
   "source": [
    "**a. 预约是否存在80/20定律，即是否大部分的预约集中于少部分居民身上？**"
   ]
  },
  {
   "cell_type": "code",
   "execution_count": 82,
   "metadata": {},
   "outputs": [],
   "source": [
    "App_num=df.groupby('Patient_Id')['Appointment_ID'].count()"
   ]
  },
  {
   "cell_type": "code",
   "execution_count": 83,
   "metadata": {},
   "outputs": [],
   "source": [
    "count_num=App_num.value_counts().sort_index().reset_index()\n",
    "count_num.rename(columns={'index':'Appointment_count','Appointment_ID':'patient_num'},inplace=True)\n"
   ]
  },
  {
   "cell_type": "code",
   "execution_count": 84,
   "metadata": {},
   "outputs": [],
   "source": [
    "count_num['Appointment_sum']=count_num['Appointment_count']*count_num['patient_num']"
   ]
  },
  {
   "cell_type": "code",
   "execution_count": 85,
   "metadata": {},
   "outputs": [],
   "source": [
    "count_dis_num=count_num.groupby(pd.cut(count_num['Appointment_count'],[0,1,2,3,5,10,100],labels=['1次预约','2次预约','3次预约','4-5次预约','6-10次预约','10次以上预约']))['patient_num','Appointment_sum'].sum()\n",
    "#统计结果导出到excel来可视化\n",
    "count_dis_num.to_csv('count_dis_num.csv',encoding='utf_8_sig')\n"
   ]
  },
  {
   "cell_type": "markdown",
   "metadata": {},
   "source": [
    "统计结果输出到excel后，进行可视化的结果如下"
   ]
  },
  {
   "cell_type": "code",
   "execution_count": 145,
   "metadata": {},
   "outputs": [
    {
     "data": {
      "text/html": [
       "<img src=\"预约分布.jpg\" width=70%>"
      ],
      "text/plain": [
       "<IPython.core.display.HTML object>"
      ]
     },
     "metadata": {},
     "output_type": "display_data"
    }
   ],
   "source": [
    "%%html\n",
    "<img src=\"预约分布.jpg\" width=70%>"
   ]
  },
  {
   "cell_type": "markdown",
   "metadata": {},
   "source": [
    "可见，大部分的居民只进行了1次预约，但这些居民的预约总量仅占到了1/3左右；而进行6次以上预约的居民只占8%左右，而这些居民的预约总次数占到了1/4以上。因此，预约存在一定程度的80/20现象。"
   ]
  },
  {
   "cell_type": "markdown",
   "metadata": {},
   "source": [
    "**b. 缺席是否存在80/20定律，即是否大部分的缺席集中于少部分居民身上？**"
   ]
  },
  {
   "cell_type": "code",
   "execution_count": 87,
   "metadata": {},
   "outputs": [
    {
     "data": {
      "text/plain": [
       "0.28349224694211694"
      ]
     },
     "execution_count": 87,
     "metadata": {},
     "output_type": "execute_result"
    }
   ],
   "source": [
    "df.loc[df['Show']==0,'Patient_Id'].nunique()/df['Patient_Id'].nunique()"
   ]
  },
  {
   "cell_type": "markdown",
   "metadata": {},
   "source": [
    "缺席的人数占据了28%"
   ]
  },
  {
   "cell_type": "code",
   "execution_count": 88,
   "metadata": {},
   "outputs": [],
   "source": [
    "absent=df[df['Show']==0]\n",
    "ab_count=absent.groupby('Patient_Id')['Appointment_ID'].count().value_counts().sort_index().reset_index()"
   ]
  },
  {
   "cell_type": "code",
   "execution_count": 89,
   "metadata": {},
   "outputs": [],
   "source": [
    "ab_count.rename(columns={'index':'absent_count','Appointment_ID':'patient_count'},inplace=True)"
   ]
  },
  {
   "cell_type": "code",
   "execution_count": 90,
   "metadata": {},
   "outputs": [],
   "source": [
    "ab_count['absent_sum']=ab_count['absent_count']*ab_count['patient_count']\n"
   ]
  },
  {
   "cell_type": "code",
   "execution_count": 91,
   "metadata": {},
   "outputs": [],
   "source": [
    "ab_dis_num=ab_count.groupby(pd.cut(ab_count['absent_count'],[0,1,2,3,100],labels=['1次缺席','2次缺席','3次缺席','4次以上缺席'])).agg({'patient_count':'sum','absent_sum':'sum'}).reset_index()\n",
    "\n",
    "#统计结果导出到excel来可视化\n",
    "ab_dis_num.to_csv('ab_dis_num.csv',encoding='utf_8_sig')"
   ]
  },
  {
   "cell_type": "code",
   "execution_count": 92,
   "metadata": {},
   "outputs": [
    {
     "data": {
      "text/html": [
       "<div>\n",
       "<style scoped>\n",
       "    .dataframe tbody tr th:only-of-type {\n",
       "        vertical-align: middle;\n",
       "    }\n",
       "\n",
       "    .dataframe tbody tr th {\n",
       "        vertical-align: top;\n",
       "    }\n",
       "\n",
       "    .dataframe thead th {\n",
       "        text-align: right;\n",
       "    }\n",
       "</style>\n",
       "<table border=\"1\" class=\"dataframe\">\n",
       "  <thead>\n",
       "    <tr style=\"text-align: right;\">\n",
       "      <th></th>\n",
       "      <th>缺席次数</th>\n",
       "      <th>病人数量</th>\n",
       "      <th>缺席总量</th>\n",
       "    </tr>\n",
       "  </thead>\n",
       "  <tbody>\n",
       "    <tr>\n",
       "      <th>0</th>\n",
       "      <td>1次</td>\n",
       "      <td>14438</td>\n",
       "      <td>14438</td>\n",
       "    </tr>\n",
       "    <tr>\n",
       "      <th>1</th>\n",
       "      <td>2次</td>\n",
       "      <td>2415</td>\n",
       "      <td>4830</td>\n",
       "    </tr>\n",
       "    <tr>\n",
       "      <th>2</th>\n",
       "      <td>3次</td>\n",
       "      <td>516</td>\n",
       "      <td>1548</td>\n",
       "    </tr>\n",
       "    <tr>\n",
       "      <th>3</th>\n",
       "      <td>4次以上</td>\n",
       "      <td>292</td>\n",
       "      <td>1498</td>\n",
       "    </tr>\n",
       "  </tbody>\n",
       "</table>\n",
       "</div>"
      ],
      "text/plain": [
       "   缺席次数   病人数量   缺席总量\n",
       "0    1次  14438  14438\n",
       "1    2次   2415   4830\n",
       "2    3次    516   1548\n",
       "3  4次以上    292   1498"
      ]
     },
     "execution_count": 92,
     "metadata": {},
     "output_type": "execute_result"
    }
   ],
   "source": [
    "ab_dis_num.columns=['缺席次数','病人数量','缺席总量']\n",
    "ab_dis_num['缺席次数']=ab_dis_num['缺席次数'].str.replace('缺席','')\n",
    "ab_dis_num"
   ]
  },
  {
   "cell_type": "code",
   "execution_count": 144,
   "metadata": {},
   "outputs": [
    {
     "data": {
      "text/html": [
       "<img src=\"缺席的分布.jpg\" width=70%>"
      ],
      "text/plain": [
       "<IPython.core.display.HTML object>"
      ]
     },
     "metadata": {},
     "output_type": "display_data"
    }
   ],
   "source": [
    "%%html\n",
    "<img src=\"缺席的分布.jpg\" width=70%>"
   ]
  },
  {
   "cell_type": "markdown",
   "metadata": {},
   "source": [
    "可见，大多数居民都只缺席了一次，总体来看，居民的缺席频次不高。缺席的总量没有出现二八现象，而是相对均匀的分布在每一个缺席的居民中。因此，不存在“几颗老鼠屎，坏了一锅粥”的现象。"
   ]
  },
  {
   "cell_type": "markdown",
   "metadata": {},
   "source": [
    "**c. 是否存在多次预约但从不出席的居民？**"
   ]
  },
  {
   "cell_type": "code",
   "execution_count": 94,
   "metadata": {},
   "outputs": [
    {
     "data": {
      "text/html": [
       "<div>\n",
       "<style scoped>\n",
       "    .dataframe tbody tr th:only-of-type {\n",
       "        vertical-align: middle;\n",
       "    }\n",
       "\n",
       "    .dataframe tbody tr th {\n",
       "        vertical-align: top;\n",
       "    }\n",
       "\n",
       "    .dataframe thead th {\n",
       "        text-align: right;\n",
       "    }\n",
       "</style>\n",
       "<table border=\"1\" class=\"dataframe\">\n",
       "  <thead>\n",
       "    <tr style=\"text-align: right;\">\n",
       "      <th></th>\n",
       "      <th>居民Id</th>\n",
       "      <th>预约次数</th>\n",
       "    </tr>\n",
       "  </thead>\n",
       "  <tbody>\n",
       "    <tr>\n",
       "      <th>0</th>\n",
       "      <td>1.421987e+12</td>\n",
       "      <td>18</td>\n",
       "    </tr>\n",
       "    <tr>\n",
       "      <th>1</th>\n",
       "      <td>5.635135e+14</td>\n",
       "      <td>16</td>\n",
       "    </tr>\n",
       "    <tr>\n",
       "      <th>2</th>\n",
       "      <td>5.811973e+14</td>\n",
       "      <td>14</td>\n",
       "    </tr>\n",
       "    <tr>\n",
       "      <th>3</th>\n",
       "      <td>6.575144e+13</td>\n",
       "      <td>13</td>\n",
       "    </tr>\n",
       "    <tr>\n",
       "      <th>4</th>\n",
       "      <td>9.338860e+13</td>\n",
       "      <td>10</td>\n",
       "    </tr>\n",
       "    <tr>\n",
       "      <th>5</th>\n",
       "      <td>4.683678e+13</td>\n",
       "      <td>9</td>\n",
       "    </tr>\n",
       "    <tr>\n",
       "      <th>6</th>\n",
       "      <td>2.162982e+11</td>\n",
       "      <td>8</td>\n",
       "    </tr>\n",
       "    <tr>\n",
       "      <th>7</th>\n",
       "      <td>2.851680e+10</td>\n",
       "      <td>7</td>\n",
       "    </tr>\n",
       "    <tr>\n",
       "      <th>8</th>\n",
       "      <td>3.484979e+13</td>\n",
       "      <td>7</td>\n",
       "    </tr>\n",
       "    <tr>\n",
       "      <th>9</th>\n",
       "      <td>9.717348e+10</td>\n",
       "      <td>6</td>\n",
       "    </tr>\n",
       "    <tr>\n",
       "      <th>10</th>\n",
       "      <td>1.144472e+12</td>\n",
       "      <td>6</td>\n",
       "    </tr>\n",
       "    <tr>\n",
       "      <th>11</th>\n",
       "      <td>5.443247e+12</td>\n",
       "      <td>6</td>\n",
       "    </tr>\n",
       "    <tr>\n",
       "      <th>12</th>\n",
       "      <td>6.797656e+14</td>\n",
       "      <td>6</td>\n",
       "    </tr>\n",
       "    <tr>\n",
       "      <th>13</th>\n",
       "      <td>6.884124e+13</td>\n",
       "      <td>6</td>\n",
       "    </tr>\n",
       "    <tr>\n",
       "      <th>14</th>\n",
       "      <td>8.737798e+12</td>\n",
       "      <td>5</td>\n",
       "    </tr>\n",
       "    <tr>\n",
       "      <th>15</th>\n",
       "      <td>5.138522e+14</td>\n",
       "      <td>5</td>\n",
       "    </tr>\n",
       "    <tr>\n",
       "      <th>16</th>\n",
       "      <td>5.622396e+13</td>\n",
       "      <td>5</td>\n",
       "    </tr>\n",
       "    <tr>\n",
       "      <th>17</th>\n",
       "      <td>2.416927e+10</td>\n",
       "      <td>5</td>\n",
       "    </tr>\n",
       "    <tr>\n",
       "      <th>18</th>\n",
       "      <td>6.489489e+12</td>\n",
       "      <td>5</td>\n",
       "    </tr>\n",
       "    <tr>\n",
       "      <th>19</th>\n",
       "      <td>9.554141e+13</td>\n",
       "      <td>5</td>\n",
       "    </tr>\n",
       "  </tbody>\n",
       "</table>\n",
       "</div>"
      ],
      "text/plain": [
       "            居民Id  预约次数\n",
       "0   1.421987e+12    18\n",
       "1   5.635135e+14    16\n",
       "2   5.811973e+14    14\n",
       "3   6.575144e+13    13\n",
       "4   9.338860e+13    10\n",
       "5   4.683678e+13     9\n",
       "6   2.162982e+11     8\n",
       "7   2.851680e+10     7\n",
       "8   3.484979e+13     7\n",
       "9   9.717348e+10     6\n",
       "10  1.144472e+12     6\n",
       "11  5.443247e+12     6\n",
       "12  6.797656e+14     6\n",
       "13  6.884124e+13     6\n",
       "14  8.737798e+12     5\n",
       "15  5.138522e+14     5\n",
       "16  5.622396e+13     5\n",
       "17  2.416927e+10     5\n",
       "18  6.489489e+12     5\n",
       "19  9.554141e+13     5"
      ]
     },
     "execution_count": 94,
     "metadata": {},
     "output_type": "execute_result"
    }
   ],
   "source": [
    "#从不出席的居民的预约次数分布情况\n",
    "never_show=df[df['Show_count']==0]\n",
    "never_count=never_show.groupby('Patient_Id')['Appointment_count'].max()\n",
    "never_count.sort_values(ascending=False).reset_index().rename(columns={'Patient_Id':u'居民Id','Appointment_count':u'预约次数'}).head(20)"
   ]
  },
  {
   "cell_type": "markdown",
   "metadata": {},
   "source": [
    "上表是多次预约且零出席的居民中，预约次数最多的20名"
   ]
  },
  {
   "cell_type": "code",
   "execution_count": 173,
   "metadata": {},
   "outputs": [
    {
     "data": {
      "image/png": "[encoded data removed]",
      "text/plain": [
       "<Figure size 576x360 with 1 Axes>"
      ]
     },
     "metadata": {
      "image/png": {
       "height": 308,
       "width": 481
      },
      "needs_background": "light"
     },
     "output_type": "display_data"
    }
   ],
   "source": [
    "plt.figure(figsize=(8,5))\n",
    "plt.boxplot(never_count)\n",
    "plt.xticks([])\n",
    "plt.yticks(range(1,19,2),fontsize=12)\n",
    "plt.title(u'零出席病人预约次数箱线图',fontsize=18);"
   ]
  },
  {
   "cell_type": "markdown",
   "metadata": {},
   "source": [
    "可见，几乎所有没有出席记录的居民都只预约了一次。预约了10次以上，但从未出席的居民一共只有5人。因此，有多次预约但从不出席的情况，但只是发生在极个别人的身上。\n",
    "\n",
    "把这些预约了10次以上但一直缺席的居民的预约信息调取出来查看后，没有发现明显的共同特征。这表明，这些多次预约从不出席的居民很可能是出于个人原因做出这样的行为。"
   ]
  },
  {
   "cell_type": "markdown",
   "metadata": {},
   "source": [
    "**d.缺席的情况更多发生于第一次预约的新用户还是已多次预约的老用户?**"
   ]
  },
  {
   "cell_type": "code",
   "execution_count": 96,
   "metadata": {},
   "outputs": [],
   "source": [
    "app_rank=df.groupby('Appointment_rank').agg({'Appointment_ID':'count','Show':'mean'}).reset_index().rename(columns={'Appointment_ID':'count','Show':'rate'})\n",
    "app_rank.to_csv('app_rank.csv')"
   ]
  },
  {
   "cell_type": "code",
   "execution_count": 174,
   "metadata": {},
   "outputs": [
    {
     "data": {
      "text/html": [
       "<img src=\"第X次预约.jpg\" width=70%>"
      ],
      "text/plain": [
       "<IPython.core.display.HTML object>"
      ]
     },
     "metadata": {},
     "output_type": "display_data"
    }
   ],
   "source": [
    "%%html\n",
    "<img src=\"第X次预约.jpg\" width=70%>"
   ]
  },
  {
   "cell_type": "markdown",
   "metadata": {},
   "source": [
    "从第1次预约到第15次预约，赴约率的变化总体不大，约99%的预约都属于这种情况。第15次以后的预约明显拥有更高的赴约率，且随着预约次数的增加，赴约率整体呈现上升趋势。"
   ]
  },
  {
   "cell_type": "markdown",
   "metadata": {},
   "source": [
    "#### 4）过往出席记录与赴约率的联系"
   ]
  },
  {
   "cell_type": "markdown",
   "metadata": {},
   "source": [
    "用逻辑回归来看待赴约率与已出席次数、已缺席次数之间的关系"
   ]
  },
  {
   "cell_type": "code",
   "execution_count": 98,
   "metadata": {},
   "outputs": [
    {
     "name": "stdout",
     "output_type": "stream",
     "text": [
      "Optimization terminated successfully.\n",
      "         Current function value: 0.495647\n",
      "         Iterations 7\n"
     ]
    },
    {
     "data": {
      "text/html": [
       "<table class=\"simpletable\">\n",
       "<caption>Logit Regression Results</caption>\n",
       "<tr>\n",
       "  <th>Dep. Variable:</th>       <td>Show</td>       <th>  No. Observations:  </th>  <td>110521</td> \n",
       "</tr>\n",
       "<tr>\n",
       "  <th>Model:</th>               <td>Logit</td>      <th>  Df Residuals:      </th>  <td>110518</td> \n",
       "</tr>\n",
       "<tr>\n",
       "  <th>Method:</th>               <td>MLE</td>       <th>  Df Model:          </th>  <td>     2</td> \n",
       "</tr>\n",
       "<tr>\n",
       "  <th>Date:</th>          <td>Thu, 11 Apr 2019</td> <th>  Pseudo R-squ.:     </th>  <td>0.01466</td>\n",
       "</tr>\n",
       "<tr>\n",
       "  <th>Time:</th>              <td>22:06:28</td>     <th>  Log-Likelihood:    </th> <td> -54779.</td>\n",
       "</tr>\n",
       "<tr>\n",
       "  <th>converged:</th>           <td>True</td>       <th>  LL-Null:           </th> <td> -55595.</td>\n",
       "</tr>\n",
       "<tr>\n",
       "  <th> </th>                      <td> </td>        <th>  LLR p-value:       </th>  <td> 0.000</td> \n",
       "</tr>\n",
       "</table>\n",
       "<table class=\"simpletable\">\n",
       "<tr>\n",
       "        <td></td>           <th>coef</th>     <th>std err</th>      <th>z</th>      <th>P>|z|</th>  <th>[0.025</th>    <th>0.975]</th>  \n",
       "</tr>\n",
       "<tr>\n",
       "  <th>intercept</th>     <td>    1.3673</td> <td>    0.009</td> <td>  160.619</td> <td> 0.000</td> <td>    1.351</td> <td>    1.384</td>\n",
       "</tr>\n",
       "<tr>\n",
       "  <th>Show_record</th>   <td>    0.1267</td> <td>    0.005</td> <td>   23.044</td> <td> 0.000</td> <td>    0.116</td> <td>    0.138</td>\n",
       "</tr>\n",
       "<tr>\n",
       "  <th>Absent_record</th> <td>   -0.3653</td> <td>    0.011</td> <td>  -32.864</td> <td> 0.000</td> <td>   -0.387</td> <td>   -0.344</td>\n",
       "</tr>\n",
       "</table>"
      ],
      "text/plain": [
       "<class 'statsmodels.iolib.summary.Summary'>\n",
       "\"\"\"\n",
       "                           Logit Regression Results                           \n",
       "==============================================================================\n",
       "Dep. Variable:                   Show   No. Observations:               110521\n",
       "Model:                          Logit   Df Residuals:                   110518\n",
       "Method:                           MLE   Df Model:                            2\n",
       "Date:                Thu, 11 Apr 2019   Pseudo R-squ.:                 0.01466\n",
       "Time:                        22:06:28   Log-Likelihood:                -54779.\n",
       "converged:                       True   LL-Null:                       -55595.\n",
       "                                        LLR p-value:                     0.000\n",
       "=================================================================================\n",
       "                    coef    std err          z      P>|z|      [0.025      0.975]\n",
       "---------------------------------------------------------------------------------\n",
       "intercept         1.3673      0.009    160.619      0.000       1.351       1.384\n",
       "Show_record       0.1267      0.005     23.044      0.000       0.116       0.138\n",
       "Absent_record    -0.3653      0.011    -32.864      0.000      -0.387      -0.344\n",
       "=================================================================================\n",
       "\"\"\""
      ]
     },
     "execution_count": 98,
     "metadata": {},
     "output_type": "execute_result"
    }
   ],
   "source": [
    "df['intercept']=1\n",
    "logit_mod=sm.Logit(df['Show'],df[['intercept','Show_record','Absent_record']])\n",
    "result=logit_mod.fit()\n",
    "result.summary()"
   ]
  },
  {
   "cell_type": "code",
   "execution_count": 99,
   "metadata": {},
   "outputs": [
    {
     "data": {
      "text/plain": [
       "(1.1351899570847568, 0.6939884231184411)"
      ]
     },
     "execution_count": 99,
     "metadata": {},
     "output_type": "execute_result"
    }
   ],
   "source": [
    "np.exp(0.1268),np.exp(-0.3653)"
   ]
  },
  {
   "cell_type": "markdown",
   "metadata": {},
   "source": [
    "逻辑回归的结果显示，赴约率与过去的出席、缺席次数呈统计性显著的相关关系。且在其它条件不变的情况下，过往记录中出席次数每增加1次，出席的概率增加13%;过往记录中缺席次数每增加1次，出席的概率减少31%"
   ]
  },
  {
   "cell_type": "markdown",
   "metadata": {},
   "source": [
    "#### 5）小结"
   ]
  },
  {
   "cell_type": "markdown",
   "metadata": {},
   "source": [
    "* 11-24岁的青少年较其它年龄段有更严重的缺席情况，这可能与该年龄段的青少年做决定更加轻率有关。\n",
    "\n",
    "\n",
    "* 等待时间超过3天时，领取贫困补助居民的赴约率明显低于无补助的居民。这一方面是因为领取贫困补助的居民更容易忘记原先的预约，另一方面也可能是因为领取贫困补助的居民更容易主观上改变要就诊的决定。一些领取贫困补助的居民之所以会故意放弃就诊，可能是因为：(a)他们更容易去相信一些民间流传的偏方或者宗教治病的观念；(b)他们在预约后又感觉自己病没那么重了，于是觉得没有必要治疗。基于此，建议：\n",
    "  - 等待时间较长时，及时发送通知短信，以防居民忘记预约\n",
    "  - 尽量让领取贫困补助的居民尽快就诊\n",
    "  - 在居民等待的过程中，加大对于医疗科学有效性的宣传，教育居民不要随意相信某些偏方\n",
    "  - 针对病情理解的误区进行科普，防止自以为病好了就不再就诊的情况发生\n",
    "  - 将领取贫困补助金的资格与就诊出席率捆绑，减少领取补助居民浪费资源的情况发生\n",
    "  \n",
    "  \n",
    "* 大部分的预约由少部分预约频次较高的居民做出。\n",
    "\n",
    "\n",
    "* 存在缺席现象的居民中，超过90%的居民仅缺席1-2次，有极个别大量预约但从不出席的居民，但这些居民对于整体赴约率的影响非常微小。这些大量预约但从不出席的居民没有明显的共同特征，推测是个人原因爽约，建议针对这部分居民建立黑名单制度。\n",
    "\n",
    "\n",
    "* 缺席的情况更多发生于前15次预约，而这些预约的总量占据了所有预约总量的99%左右。可以尝试针对已多次预约且记录良好的居民开放绿色通道。\n",
    "\n",
    "\n",
    "* 在排除个体因素后，赴约率与过去的出席、缺席次数有明显的相关关系。且在其它条件不变的情况下，过往记录中出席次数每增加1次，下次出席的概率增加13%;过往记录中缺席次数每增加1次，下次出席的概率减少31%。"
   ]
  },
  {
   "cell_type": "markdown",
   "metadata": {},
   "source": [
    "## 3.医院因素"
   ]
  },
  {
   "cell_type": "markdown",
   "metadata": {},
   "source": [
    "#### 1）医院位置"
   ]
  },
  {
   "cell_type": "code",
   "execution_count": 100,
   "metadata": {},
   "outputs": [],
   "source": [
    "nei_attend=df.groupby('Neighbourhood').agg({'Appointment_ID':'count','Show':'mean'}).reset_index().rename(columns={'Appointment_ID':'count','Show':'rate'})"
   ]
  },
  {
   "cell_type": "code",
   "execution_count": 101,
   "metadata": {},
   "outputs": [],
   "source": [
    "nei_attend[nei_attend['count']>=50].to_csv('nei_attend.csv',encoding='utf-8')"
   ]
  },
  {
   "cell_type": "code",
   "execution_count": 158,
   "metadata": {},
   "outputs": [
    {
     "data": {
      "text/html": [
       "<img src=\"街区赴约率.jpg\" width=80%>"
      ],
      "text/plain": [
       "<IPython.core.display.HTML object>"
      ]
     },
     "metadata": {},
     "output_type": "display_data"
    }
   ],
   "source": [
    "%%html\n",
    "<img src=\"街区赴约率.jpg\" width=80%>"
   ]
  },
  {
   "cell_type": "markdown",
   "metadata": {},
   "source": [
    "在排除低样本数量的影响后，不同医院位置的赴约率差异可以达到10个百分点以上。因此，医院位置对赴约率是有较大影响的。"
   ]
  },
  {
   "cell_type": "markdown",
   "metadata": {},
   "source": [
    "通过查阅病人对于赴约率前5名和后5名医院的评价(信息来源：Google地图)，发现：赴约率靠前的医院往往具有服务质量好，医生技术水平高的特点，也有少数病人认为这些医院流程进展缓慢；而赴约率低的医院往往具有医生水平较差、无人接听电话、流程进展缓慢的特点，但也有一些病人认为这些医院的服务质量好。\n",
    "\n",
    "下面的4个评价是典型的对于赴约率高医院的评价"
   ]
  },
  {
   "cell_type": "code",
   "execution_count": 157,
   "metadata": {},
   "outputs": [
    {
     "data": {
      "text/html": [
       "<img src=\"高赴约率医院评价.jpg\" width=40%>"
      ],
      "text/plain": [
       "<IPython.core.display.HTML object>"
      ]
     },
     "metadata": {},
     "output_type": "display_data"
    }
   ],
   "source": [
    "%%html\n",
    "<img src=\"高赴约率医院评价.jpg\" width=40%>"
   ]
  },
  {
   "cell_type": "markdown",
   "metadata": {},
   "source": [
    "下面的2个评价是典型的对于赴约率低医院的评价"
   ]
  },
  {
   "cell_type": "code",
   "execution_count": 155,
   "metadata": {},
   "outputs": [
    {
     "data": {
      "text/html": [
       "<img src=\"低赴约率医院评价.jpg\" width=40%>"
      ],
      "text/plain": [
       "<IPython.core.display.HTML object>"
      ]
     },
     "metadata": {},
     "output_type": "display_data"
    }
   ],
   "source": [
    "%%html\n",
    "<img src=\"低赴约率医院评价.jpg\" width=40%>"
   ]
  },
  {
   "cell_type": "markdown",
   "metadata": {},
   "source": [
    "因此，加强对电话接听人员的监管、简化流程、提高医生的专业水平可以帮助提高赴约率。"
   ]
  },
  {
   "cell_type": "markdown",
   "metadata": {},
   "source": [
    "#### 2) 短信发送"
   ]
  },
  {
   "cell_type": "code",
   "execution_count": 105,
   "metadata": {},
   "outputs": [],
   "source": [
    "SMS_wait_rate=df.groupby(['SMS_received','Awaiting_day_divide'])['Show'].agg(['count','mean']).reset_index()\n",
    "SMS_wait_rate.to_csv('SMS_wait_rate.csv')"
   ]
  },
  {
   "cell_type": "code",
   "execution_count": 151,
   "metadata": {},
   "outputs": [
    {
     "data": {
      "text/html": [
       "<img src=\"短信-等待时间-赴约率.jpg\" width=75%>"
      ],
      "text/plain": [
       "<IPython.core.display.HTML object>"
      ]
     },
     "metadata": {},
     "output_type": "display_data"
    }
   ],
   "source": [
    "%%html\n",
    "<img src=\"短信-等待时间-赴约率.jpg\" width=75%>"
   ]
  },
  {
   "cell_type": "markdown",
   "metadata": {},
   "source": [
    "数据显示，当等待时间不超过2天时，所有病人都没有被发送通知短信；等待时间超过3天时，被发送通知短信的预约数量略微超过没有通知提醒的预约数量。在同样的等待天数下，有通知短信的赴约率会高于没有通知短信的赴约率。因此，建议对所有等待天数超过2天的居民发送通知短信，从而改善出席情况。"
   ]
  },
  {
   "cell_type": "markdown",
   "metadata": {},
   "source": [
    "#### 3）小结"
   ]
  },
  {
   "cell_type": "markdown",
   "metadata": {},
   "source": [
    "* 不同医院位置对应的赴约率差异明显\n",
    "\n",
    "\n",
    "* 赴约率靠前的医院往往具有服务质量好，医生技术水平高的优点；而赴约率低的医院往往具有医生水平较差、无人接听电话、流程进展缓慢的缺点。因此，建议加强对电话接听人员的监管、简化流程、提高医生的专业水平\n",
    "\n",
    "\n",
    "* 在同样的等待天数下，有通知短信的赴约率会高于没有通知短信的赴约率。建议对所有等待天数超过2天的居民发送通知短信，从而改善出席情况。"
   ]
  },
  {
   "cell_type": "markdown",
   "metadata": {},
   "source": [
    "<a id='conclusions'></a>\n",
    "## 结论"
   ]
  },
  {
   "cell_type": "markdown",
   "metadata": {},
   "source": [
    "* 就诊时间安排优先级：<br>\n",
    "  当天就诊>7天内就诊>60天后就诊>其它时间就诊\n",
    "  \n",
    "  \n",
    "* 综合考虑赴约率、居民的需求、工作人员的负担，可以尝试将预约时间提前到20点结束，并将就诊时间开放至周末。\n",
    "\n",
    "\n",
    "* 11-24岁的青少年较其它年龄段有更严重的缺席情况，这可能与该年龄段的青少年做决定更加轻率有关。\n",
    "\n",
    "\n",
    "* 领取贫困补助的居民更容易忘记原先的预约，针对此，建议及时发送通知短信来提醒。此外，领取贫困补助的居民更容易主观上改变要就诊的决定，改变决定的原因可能是被民间偏方、宗教治病的观念说服或对病情的误解。基于此，建议：尽量让领取贫困补助的居民尽快就诊；加大对于医疗科学有效性的宣传，教育居民不要随意相信某些偏方；针对病情理解的误区进行科普；将领取贫困补助金的资格与就诊出席率捆绑，减少领取补助居民浪费资源的情况发生。\n",
    "\n",
    "\n",
    "* 存在缺席现象的居民中，超过90%仅缺席1-2次，有极个别大量预约但从不出席的居民，但这些居民对于整体赴约率的影响非常微小。这些大量预约但从不出席的居民没有明显的共同特征，推测是个人原因爽约，建议针对这部分居民建立黑名单制度。\n",
    "\n",
    "\n",
    "* 在排除个体因素后，赴约率与过去的出席、缺席次数有明显的相关关系。且在其它条件不变的情况下，过往记录中出席次数每增加1次，下次出席的概率增加13%；过往记录中缺席次数每增加1次，下次出席的概率减少31%。已经预约15次以上的居民在出勤状况上明显好于预约较少的居民，第15次以后的预约只占预约总量的1%，建议针对已多次预约且记录良好的少数居民开放绿色通道。\n",
    "\n",
    "\n",
    "* 赴约率靠前的医院往往具有服务质量好，医生技术水平高的优点；而赴约率低的医院往往具有医生水平较差、无人接听电话、流程进展缓慢的缺点。因此，建议加强对电话接听人员的监管、简化流程、提高医生的专业水平\n",
    "\n",
    "\n",
    "* 在同样的等待天数下，有通知短信的赴约率会明显高于没有通知短信的赴约率。建议对所有等待天数超过2天的居民发送通知短信，从而改善出席情况。"
   ]
  }
 ],
 "metadata": {
  "kernelspec": {
   "display_name": "Python 3",
   "language": "python",
   "name": "python3"
  }
 },
 "nbformat": 4,
 "nbformat_minor": 2
}
